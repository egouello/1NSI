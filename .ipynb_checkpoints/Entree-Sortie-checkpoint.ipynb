{
 "cells": [
  {
   "cell_type": "markdown",
   "id": "a071b25d",
   "metadata": {},
   "source": [
    "# Les entrées-sorties \n",
    "\n",
    "Tout programme a besoin d'interagir avec son environnement, ne serait-ce que pour communiquer les résultats d'un calcul. En effet, un programme qui ne produirait aucun résultat, ou qui n'aurait aucun effet sur son environnement, n'aurait que peu intérêt. Dans ce cours, on s'intéresse aux moyens d'interagir avec l'utilisateur, à travers des interfaces textuelles.\n",
    "\n",
    "Les interfaces textuelles consistent à lire des données saisies au clavier, et à afficher des résultats à l'écran sous forme de texte. Elles sont un cas particulier des interfaces graphiques, qui consistent à afficher des éléments graphiques à l'écran et à saisir des commandes à l'aide de divers dispositifs, notamment la souris, le pavé tactile, l'écran tactile et le clavier.\n",
    "\n",
    "La façon la plus simple d'interagir avec un programme est de lire et d'afficher du texte dans la console. On parle d'interaction « en mode console » ou « en ligne de commande ».\n",
    "\n",
    "## 1-Afficher du texte\n",
    "\n",
    "Nous avons déjà vu la fonction <code>print</code> pour afficher des valeurs sous forme textuelle. Cette fonction admet autant de paramètres que l'on veut, de n'importe quel type (chaîne de caractères, nombre, etc.). Elle affiche la concaténation de ces paramètres en les « collant » l'un après l'autre, séparés par des espaces :"
   ]
  },
  {
   "cell_type": "code",
   "execution_count": 1,
   "id": "2dae1aae",
   "metadata": {},
   "outputs": [
    {
     "name": "stdout",
     "output_type": "stream",
     "text": [
      "La somme de  3  et de  5.3  est :  8.3\n"
     ]
    }
   ],
   "source": [
    "a=3\n",
    "b=5.3\n",
    "print(\"La somme de \",a,\" et de \",b,\" est : \",a+b)"
   ]
  },
  {
   "cell_type": "markdown",
   "id": "26270c8a",
   "metadata": {},
   "source": [
    "Python permet d'utiliser des chaînes de caractères particulières, appelées chaînes de formatage, qui simplifient l'affichage de chaînes complexes faisant intervenir des valeurs de variables et d'expressions entre accolades. Par exemple, le code précédent peut-être remplacé :"
   ]
  },
  {
   "cell_type": "code",
   "execution_count": 2,
   "id": "6c9f2819",
   "metadata": {},
   "outputs": [
    {
     "name": "stdout",
     "output_type": "stream",
     "text": [
      "La somme de 3 et de 5.3 est de 8.3\n"
     ]
    }
   ],
   "source": [
    "print(f\"La somme de {a} et de {b} est de {a+b}\")"
   ]
  },
  {
   "cell_type": "markdown",
   "id": "80aaf484",
   "metadata": {},
   "source": [
    "Une chaîne de formatage commence par la lettre f (pour « format ») avant le guillemet ouvrant (simple ou double). La chaîne peut contenir des expressions Python (ici a, b et a+b) entre accolades. Chaque expression est alors remplacée par sa valeur.\n",
    "\n",
    "## 2-Lire du texte\n",
    "\n",
    "Pour « lire » du texte en Python, on utilise la fonction <code>input()</code> qui met en pause le programme et attend que l'utilisateur saisisse du texte et termine la saisie en appuyant sur la touche Entrée."
   ]
  },
  {
   "cell_type": "code",
   "execution_count": 3,
   "id": "88f6fd56",
   "metadata": {},
   "outputs": [
    {
     "name": "stdout",
     "output_type": "stream",
     "text": [
      "Valeur de a? 2\n",
      "La valeur de a est : 2\n"
     ]
    }
   ],
   "source": [
    "#on attend que l'utilisateur entre les valeurs de a et b\n",
    "a=input(\"Valeur de a? \")\n",
    "print(f\"La valeur de a est : {a}\")"
   ]
  },
  {
   "cell_type": "markdown",
   "id": "7a370377",
   "metadata": {},
   "source": [
    "**Attention** : la valeur retournée par <code>input()</code> est toujours une chaîne de caractères, même si ce que l'utilisateur a tapé ressemble à un nombre ! Pour effectuer des opérations arithmétiques, il faut d'abord convertir ces chaînes de caractères en nombre entier (<code>int()</code>) ou en nombre à virgule flottante (<code>float()</code>). Regardez l'exemple suivant :"
   ]
  },
  {
   "cell_type": "code",
   "execution_count": 11,
   "id": "bc8b83ad",
   "metadata": {},
   "outputs": [
    {
     "name": "stdout",
     "output_type": "stream",
     "text": [
      "Valeur de a? toto\n",
      "Valeur de b? tata\n",
      "sans tranformation, la valeur de a+b est tototata\n"
     ]
    },
    {
     "ename": "ValueError",
     "evalue": "could not convert string to float: 'toto'",
     "output_type": "error",
     "traceback": [
      "\u001b[1;31m---------------------------------------------------------------------------\u001b[0m",
      "\u001b[1;31mValueError\u001b[0m                                Traceback (most recent call last)",
      "\u001b[1;32m<ipython-input-11-dc42e75c8be4>\u001b[0m in \u001b[0;36m<module>\u001b[1;34m\u001b[0m\n\u001b[0;32m      7\u001b[0m \u001b[1;33m\u001b[0m\u001b[0m\n\u001b[0;32m      8\u001b[0m \u001b[1;31m#si on veut effectuer l'addition numérique, on force les variables a et b à se transformer en flottants\u001b[0m\u001b[1;33m\u001b[0m\u001b[1;33m\u001b[0m\u001b[1;33m\u001b[0m\u001b[0m\n\u001b[1;32m----> 9\u001b[1;33m \u001b[0ma\u001b[0m\u001b[1;33m=\u001b[0m\u001b[0mfloat\u001b[0m\u001b[1;33m(\u001b[0m\u001b[0ma\u001b[0m\u001b[1;33m)\u001b[0m\u001b[1;33m\u001b[0m\u001b[1;33m\u001b[0m\u001b[0m\n\u001b[0m\u001b[0;32m     10\u001b[0m \u001b[0mb\u001b[0m\u001b[1;33m=\u001b[0m\u001b[0mfloat\u001b[0m\u001b[1;33m(\u001b[0m\u001b[0mb\u001b[0m\u001b[1;33m)\u001b[0m\u001b[1;33m\u001b[0m\u001b[1;33m\u001b[0m\u001b[0m\n\u001b[0;32m     11\u001b[0m \u001b[0mprint\u001b[0m\u001b[1;33m(\u001b[0m\u001b[1;34mf\"avec transformation, la valeur de a+b est {a+b}\"\u001b[0m\u001b[1;33m)\u001b[0m  \u001b[1;31m#cette fois les deux nombres sont additionnés\u001b[0m\u001b[1;33m\u001b[0m\u001b[1;33m\u001b[0m\u001b[0m\n",
      "\u001b[1;31mValueError\u001b[0m: could not convert string to float: 'toto'"
     ]
    }
   ],
   "source": [
    "#on attend que l'utilisateur entre les valeurs de a et b\n",
    "a=input(\"Valeur de a? \")\n",
    "b=input(\"Valeur de b? \")\n",
    "\n",
    "#pour Python, a et b sont des chaines de caractères, en voici la preuve\n",
    "print(f\"sans tranformation, la valeur de a+b est {a+b}\")  #il concatène les deux chaines\n",
    "\n",
    "#si on veut effectuer l'addition numérique, on force les variables a et b à se transformer en flottants\n",
    "a=float(a)\n",
    "b=float(b)\n",
    "print(f\"avec transformation, la valeur de a+b est {a+b}\")  #cette fois les deux nombres sont additionnés"
   ]
  },
  {
   "cell_type": "markdown",
   "id": "a896e051",
   "metadata": {},
   "source": [
    "## 3- Gérer les erreurs dans les entrées : l'instruction try\n",
    "Que se passe-t‑il si l'utilisateur tape comme valeur de a une chaîne de caractères qui ne peut pas être interprétée comme un nombre ? Essayez le programme précédent en entrant \"toto\" pour a et \"tutu\" pour b...\n",
    "\n",
    "<code>\n",
    "---------------------------------------------------------------------------\n",
    "ValueError                                Traceback (most recent call last)\n",
    "<ipython-input-7-491761ae42a0> in <module>\n",
    "      7 \n",
    "      8 #si on veut effectuer l'addition numérique, on force les variables a et b à se transformer en flottants\n",
    "----> 9 a=float(a)\n",
    "     10 b=float(b)\n",
    "     11 print(f\"la valeur de a+b est {a+b}\")  #cette fois les deux nombres sont additionnés\n",
    "\n",
    "ValueError: could not convert string to float: 'toto'\n",
    "    </code>\n",
    "    \n",
    "La conversion en nombre flottant, ligne 9, provoque une erreur d'exécution de type <code>ValueError</code>. Pour éviter que le programme ne s'arrête à cause de cette erreur, il faut l'intercepter grâce à l'instruction Python <code>try</code>. Cette instruction permet de « prévenir » Python qu'une erreur peut se produire lors de l'exécution du bloc d'instructions qui suit <code>try</code>, et de définir ce qu'il faut faire si cette erreur survient (plutôt qu'interrompre le programme par défaut) dans le bloc d'instructions qui suit <code>except</code> :"
   ]
  },
  {
   "cell_type": "code",
   "execution_count": 5,
   "id": "6b3511b7",
   "metadata": {},
   "outputs": [
    {
     "name": "stdout",
     "output_type": "stream",
     "text": [
      "Valeur de a? 2\n",
      "Résultat =  2.0\n"
     ]
    }
   ],
   "source": [
    "#essayer ce programme en entrant une chaine de caractère à la place de a, puis retester avec un nombre\n",
    "try:\n",
    "    a=float(input(\"Valeur de a? \"))\n",
    "    print(\"Résultat = \",a)\n",
    "except ValueError:\n",
    "    print(\"attention, a n'est pas un nombre\")"
   ]
  },
  {
   "cell_type": "markdown",
   "id": "12715dfc",
   "metadata": {},
   "source": [
    "Si une erreur de type <code>ValueError</code> se produit pendant l'exécution des instructions comprises dans le bloc <code>try</code> (lignes 2-3), le code du bloc <code>except</code> (ligne 5) est exécuté au lieu de provoquer l'arrêt du programme.\n",
    "\n",
    "Pour rendre le programme plus convivial et redemander à l'utilisateur la saisie si celle-ci est incorrecte, il faut programmer une boucle :"
   ]
  },
  {
   "cell_type": "code",
   "execution_count": 12,
   "id": "1fb29cf7",
   "metadata": {},
   "outputs": [
    {
     "name": "stdout",
     "output_type": "stream",
     "text": [
      "entrez un nombre pour a : toto\n",
      "erreur de saisie, a n'est pas un nombre\n",
      "entrez un nombre pour a : uiouio\n",
      "erreur de saisie, a n'est pas un nombre\n",
      "entrez un nombre pour a : opop\n",
      "erreur de saisie, a n'est pas un nombre\n",
      "entrez un nombre pour a : 4\n",
      "la valeur que vous avez saisie pour a est 4.0, merci!\n"
     ]
    }
   ],
   "source": [
    "ok = False\n",
    "while not ok: #tant que la saisie n'est pas ok\n",
    "    try:\n",
    "        a=float(input(\"entrez un nombre pour a : \"))\n",
    "        ok = True  #si le programme se rend jusque là, c'est qu'il n'y a pas eu d'erreur\n",
    "    except ValueError:\n",
    "        print(\"erreur de saisie, a n'est pas un nombre\")\n",
    "\n",
    "#une fois sorti de la boucle, le programme peut continuer\n",
    "print(f\"la valeur que vous avez saisie pour a est {a}, merci!\")"
   ]
  },
  {
   "cell_type": "markdown",
   "id": "f698f0db",
   "metadata": {},
   "source": [
    "## 4- Exercices\n",
    "\n",
    "### Exercice 1 :\n",
    "a) Écrire un programme qui choisit un nombre aléatoire entre 0 et 100 et demande à l'utilisateur de le trouver. Pour cela l'utilisateur entre un nombre et le programme répond « trop petit » ou « trop grand » jusqu'à ce que l'utilisateur ait deviné le nombre choisi par l'ordinateur.\n",
    "\n",
    "b) Compléter le programme pour compter le nombre d'essais et l'afficher à la fin. Féliciter l'utilisateur s'il trouve en moins de 6 essais.\n",
    "\n",
    "c) Compléter le programme pour qu'il tienne à jour, sous la forme de deux variables, l'intervalle de valeurs dans lequel se trouve le nombre cherché d'après les réponses de l'utilisateur : minimum est la plus grande valeur proposée pour laquelle l'ordinateur a répondu « trop petit », et maximum la plus petite valeur proposée pour laquelle l'ordinateur a répondu « trop grand ». À chaque essai, si l'utilisateur propose un nombre en dehors de cet intervalle, le programme répond « Je vous croyais plus malin »."
   ]
  },
  {
   "cell_type": "code",
   "execution_count": 9,
   "id": "214d4a88",
   "metadata": {},
   "outputs": [
    {
     "name": "stdout",
     "output_type": "stream",
     "text": [
      "38\n"
     ]
    }
   ],
   "source": [
    "#exercice 1 -début pour vous aider\n",
    "from random import *              #on a besoin du module random pour générer des nombres aléatoires\n",
    "nombre_a_deviner=randint(0,100)   #on génère un nombre entre 0 et 100\n",
    "print(nombre_a_deviner)           #il faut enlever cette ligne qui sert juste à vérifier que le générateur marche"
   ]
  },
  {
   "cell_type": "markdown",
   "id": "d08caa26",
   "metadata": {},
   "source": [
    "### Exercice 2 :\n",
    "\n",
    "Dans un vivarium, une colonie d'insectes voit son nombre d'individus multiplié par 3 jour après jour. Ils sont 10 le premier jour.\n",
    "\n",
    "Écrire un programme qui demande à l'utilisateur le nombre maximal d'insectes que peut contenir le vivarium, et qui calcule le nombre d'insectes jour après jour tant que le nombre maximal n'est pas atteint. Une fois ce nombre maximal atteint, le programme affiche le nombre de jours avant ce dépassement.\n",
    "\n",
    "### Exercice 3 :\n",
    "\n",
    "Écrire un programme permettant de convertir entre degrés Celcius et Fahrenheit.\n",
    "\n",
    "Au début le programme propose un menu proposant les deux options « C → F » et « F → C ». Ensuite, le programme demande la température à convertir. On utilisera les éléments de cours précédent pour gérer les erreurs de saisies.\n",
    "\n",
    "### Exercice 4 (défi):\n",
    "\n",
    "Lire [l'article Wikipedia sur la conjecture de Syracuse](https://fr.wikipedia.org/wiki/Conjecture_de_Syracuse), puis réaliser un programme qui demande à l'utilisateur une valeur de départ $n$ et renvoie la suite de Syracuse du nombre $n$ ainsi que son temps de vol, son temps de vol en altitude et son altitude maximale. "
   ]
  },
  {
   "cell_type": "code",
   "execution_count": null,
   "id": "64caa748",
   "metadata": {},
   "outputs": [],
   "source": []
  }
 ],
 "metadata": {
  "kernelspec": {
   "display_name": "Python 3",
   "language": "python",
   "name": "python3"
  },
  "language_info": {
   "codemirror_mode": {
    "name": "ipython",
    "version": 3
   },
   "file_extension": ".py",
   "mimetype": "text/x-python",
   "name": "python",
   "nbconvert_exporter": "python",
   "pygments_lexer": "ipython3",
   "version": "3.7.10"
  }
 },
 "nbformat": 4,
 "nbformat_minor": 5
}
