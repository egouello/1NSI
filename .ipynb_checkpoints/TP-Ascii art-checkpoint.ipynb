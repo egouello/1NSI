{
 "cells": [
  {
   "cell_type": "markdown",
   "id": "78ddb447",
   "metadata": {},
   "source": [
    "# TP programmation - Ascii art\n",
    "\n",
    "## 1- Un carré en ASCII art\n",
    "\n",
    "L'« ASCII Art » consiste à utiliser les caractères alphanumériques du code ASCII pour produire des images. Nous allons commencer par dessiner un carré à l'aide de la lettre X.\n",
    "\n",
    "La fonction print() prend un nombre quelconque d'arguments et les affiche en les séparant par un espace et en terminant par un retour-chariot. Il faut donc calculer le contenu d'une ligne entière avant de l'afficher. On peut utiliser des boucles :"
   ]
  },
  {
   "cell_type": "code",
   "execution_count": 1,
   "id": "3ae373c4",
   "metadata": {},
   "outputs": [
    {
     "name": "stdout",
     "output_type": "stream",
     "text": [
      "[]-->8---->8---->8---->8---->8--\n"
     ]
    }
   ],
   "source": [
    "ligne = \"[]\"\n",
    "for i in range(5):\n",
    "    ligne = ligne + \"-->8--\"\n",
    "    \n",
    "print(ligne)   #[]-->8---->8---->8---->8---->8--"
   ]
  },
  {
   "cell_type": "markdown",
   "id": "8c1abcaf",
   "metadata": {},
   "source": [
    "On peut également utiliser les opérateurs de concaténation (+) et de répétition (*) des chaines :"
   ]
  },
  {
   "cell_type": "code",
   "execution_count": 2,
   "id": "bf38dbde",
   "metadata": {},
   "outputs": [
    {
     "name": "stdout",
     "output_type": "stream",
     "text": [
      "[]-->8---->8---->8---->8---->8--\n"
     ]
    }
   ],
   "source": [
    "print(\"[]\"+\"-->8--\"*5)  #[]-->8---->8---->8---->8---->8--"
   ]
  },
  {
   "cell_type": "markdown",
   "id": "2424d72f",
   "metadata": {},
   "source": [
    "### Exercice 1 :\n",
    "Écrire le programme qui affiche un carré constitué de X en définissant une fonction qui prend en paramètre la longueur du côté.\n",
    "\n",
    "*Remarque* : on affiche \"X \" et \" \", plutôt que \"X\" et \" \" (on met un espace supplémentaire derrière le X). C'est purement esthétique : les caractères affichés ont une taille fixe et sont (à peu près) deux fois plus hauts que larges, notre résultat est ainsi plus proche d'un carré."
   ]
  },
  {
   "cell_type": "code",
   "execution_count": 4,
   "id": "b744972c",
   "metadata": {},
   "outputs": [],
   "source": [
    "def carre(taille):\n",
    "    #affiche un carré de coté \"taille\"\n",
    "    #par exemple carre(5) doit afficher :\n",
    "    # X  X  X  X  X\n",
    "    # X           X\n",
    "    # X           X\n",
    "    # X           X\n",
    "    # X  X  X  X  X\n",
    "    \n",
    "    # à vous de coder!\n",
    "    return\n",
    "    "
   ]
  },
  {
   "cell_type": "markdown",
   "id": "3cc1bf69",
   "metadata": {},
   "source": [
    "## 2-D'autres formes\n",
    "\n",
    "### Exercice 2 :\n",
    "\n",
    "Réutiliser le code du carré pour afficher les formes suivantes, représentées ici avec un côté de 9 (mais le code doit permettre de varier la valeur de côté).\n",
    "\n",
    "<code>croix_carre(9)</code> affiche :\n",
    "<code>\n",
    "X  X  X  X  X  X  X  X  X\n",
    "X           X           X\n",
    "X           X           X\n",
    "X           X           X\n",
    "X  X  X  X  X  X  X  X  X\n",
    "X           X           X\n",
    "X           X           X\n",
    "X           X           X\n",
    "X  X  X  X  X  X  X  X  X\n",
    "</code>   \n",
    "\n",
    "<code>diago_descend(9)</code> affiche :\n",
    "<code>\n",
    "X  X  X  X  X  X  X  X  X\n",
    "X  X                    X\n",
    "X     X                 X\n",
    "X        X              X\n",
    "X           X           X\n",
    "X              X        X\n",
    "X                 X     X\n",
    "X                    X  X\n",
    "X  X  X  X  X  X  X  X  X\n",
    "</code>  \n",
    "\n",
    "<code>triangle(9)</code> affiche :\n",
    "<code>\n",
    "            X           \n",
    "         X     X         \n",
    "      X           X      \n",
    "   X                 X   \n",
    "X  X  X  X  X  X  X  X  X\n",
    "</code>  \n",
    "\n",
    "<code>triangle_inverse(11)</code> affiche :\n",
    "<code>\n",
    "X  X  X  X  X  X  X  X  X  X  X  X  X\n",
    "X  X  X  X  X  X     X  X  X  X  X  X\n",
    "X  X  X  X  X           X  X  X  X  X\n",
    "X  X  X  X                 X  X  X  X\n",
    "X  X  X                       X  X  X\n",
    "X  X                             X  X\n",
    "X                                   X\n",
    "X  X  X  X  X  X  X  X  X  X  X  X  X\n",
    "</code>  \n"
   ]
  },
  {
   "cell_type": "code",
   "execution_count": 5,
   "id": "281fe5e2",
   "metadata": {},
   "outputs": [],
   "source": [
    "#À vous de coder ces 4 fonctions ici\n",
    "def croix_carre(cote):\n",
    "    #à compléter\n",
    "    return\n",
    "\n"
   ]
  },
  {
   "cell_type": "markdown",
   "id": "608c139d",
   "metadata": {},
   "source": [
    "## 3-Le sapin de Noël\n",
    "\n",
    "### Exercice 3\n",
    "Nous allons maintenant dessiner un sapin de Noël, en quatre étapes expliquées ci-dessous. Comme pour le carré, le programme devra définir une fonction <code>sapin</code> qui prend en paramètre la taille de celui-ci.\n",
    "\n",
    "__1ère étape :__ Afficher un triangle représentant le feuillage puis un rectangle représentant le tronc, en utilisant les barres obliques (/ et \\) et verticale (|) ainsi que l'accent circonflexe pour le sommet (^).\n",
    "<code>\n",
    "       ^       \n",
    "      / \\      \n",
    "     /   \\     \n",
    "    /     \\    \n",
    "   /       \\   \n",
    "  /         \\  \n",
    " /           \\ \n",
    "/             \\ \n",
    "      |||       \n",
    "      |||       \n",
    "      |||       \n",
    "</code>   \n",
    "*Remarque* : Le caractère \\ (barre oblique inversée ou backslash) est un caractère spécial en python. Pour l'afficher, il faut le doubler dans la chaine de caractère. <code>print(\"\\\\\\\\\")</code> affiche \\ .\n",
    "\n",
    "__2e étape :__ Ajouter une étoile au sommet de l'arbre.\n",
    "<code>\n",
    "       *\n",
    "       ^       \n",
    "      / \\      \n",
    "     /   \\     \n",
    "    /     \\    \n",
    "   /       \\   \n",
    "  /         \\  \n",
    " /           \\ \n",
    "/             \\ \n",
    "      |||       \n",
    "      |||       \n",
    "      |||       \n",
    "</code>    \n",
    "__3e étape :__ Modifier le programme afin d'afficher la texture du feuillage, en alternant les guillemets simples et doubles (' et \").\n",
    "<code>\n",
    "       *\n",
    "       ^       \n",
    "      /\"\\      \n",
    "     /\"'\"\\     \n",
    "    /\"'\"'\"\\    \n",
    "   /\"'\"'\"'\"\\   \n",
    "  /\"'\"'\"'\"'\"\\  \n",
    " /\"'\"'\"'\"'\"'\"\\ \n",
    "/\"'\"'\"'\"'\"'\"'\"\\ \n",
    "      |||       \n",
    "      |||       \n",
    "      |||       \n",
    "</code>    \n",
    "\n",
    "\n",
    "__4e étape :__ Ajouter des décorations, représentées par des 'o' disposés aléatoirement sur le sapin.\n",
    "<code>\n",
    "       *\n",
    "       ^       \n",
    "      /o\\      \n",
    "     /\"'\"\\     \n",
    "    /\"o\"o\"\\    \n",
    "   /\"'\"'o'\"\\   \n",
    "  /\"'o'\"'o'\"\\  \n",
    " /\"'\"'\"'\"o\"'\"\\ \n",
    "/\"'\"o\"o\"'\"'o'\"\\ \n",
    "      |||       \n",
    "      |||       \n",
    "      |||       \n",
    "</code>    \n",
    "\n",
    "\n",
    "La fonction <code>random()</code> de la bibliothèque <code>random</code> retourne un nombre flottant aléatoire compris entre 0 (inclus) et 1 (exclus), suivant une distribution uniforme (tous les nombres entre 0 et 1 ont la même chance d'être tirés au sort). Ce nombre est différent chaque fois que l'on appelle la fonction <code>random()</code>.\n",
    "Ainsi, pour qu'un bloc d'instruction soit affiché 40% du temps, on pourra écrire :\n",
    "<code>\n",
    "if random() < 0.4:\n",
    "    ... instructions...\n",
    "</code>\n",
    "\n",
    "En utilisant <code>random()</code>, modifier le code de l'étape 3 pour qu'une décoration “o” apparaisse 20 % du temps à la place d'un guillemet. Le sapin sera différent à chaque appel de <code>sapin()</code>.\n",
    "\n"
   ]
  },
  {
   "cell_type": "code",
   "execution_count": 6,
   "id": "3dcccb8e",
   "metadata": {},
   "outputs": [],
   "source": [
    "#à vous de jouer\n",
    "\n",
    "def sapin(taille):\n",
    "    #commencer par l'étape 1...\n",
    "    return"
   ]
  },
  {
   "cell_type": "code",
   "execution_count": null,
   "id": "bfcd3a8d",
   "metadata": {},
   "outputs": [],
   "source": []
  }
 ],
 "metadata": {
  "kernelspec": {
   "display_name": "Python 3",
   "language": "python",
   "name": "python3"
  },
  "language_info": {
   "codemirror_mode": {
    "name": "ipython",
    "version": 3
   },
   "file_extension": ".py",
   "mimetype": "text/x-python",
   "name": "python",
   "nbconvert_exporter": "python",
   "pygments_lexer": "ipython3",
   "version": "3.7.10"
  }
 },
 "nbformat": 4,
 "nbformat_minor": 5
}
