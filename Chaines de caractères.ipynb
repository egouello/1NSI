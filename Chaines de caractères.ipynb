{
 "cells": [
  {
   "cell_type": "markdown",
   "id": "c0d999af",
   "metadata": {},
   "source": [
    "# Les chaines de caractères en Python\n",
    "\n",
    "## 1- introduction\n",
    "Les chaînes de caractères (string en anglais) sont des textes entre guillemets simples ou doubles : 'Bonjour' ou \"Bonjour\". L'utilisation d'un type de guillemets ou l'autre ne change pas la façon dont le texte va être traité ; cela permet par contre de mettre l'autre type de guillemets dans le texte :"
   ]
  },
  {
   "cell_type": "code",
   "execution_count": 31,
   "id": "c2336b8d",
   "metadata": {},
   "outputs": [
    {
     "data": {
      "text/plain": [
       "\"Il dit qu'il fait beau\""
      ]
     },
     "execution_count": 31,
     "metadata": {},
     "output_type": "execute_result"
    }
   ],
   "source": [
    "\"Il dit qu'il fait beau\""
   ]
  },
  {
   "cell_type": "code",
   "execution_count": 6,
   "id": "a1db55d3",
   "metadata": {},
   "outputs": [
    {
     "data": {
      "text/plain": [
       "'Il dit : \"il fait beau\" et part'"
      ]
     },
     "execution_count": 6,
     "metadata": {},
     "output_type": "execute_result"
    }
   ],
   "source": [
    "'Il dit : \"il fait beau\" et part'"
   ]
  },
  {
   "cell_type": "markdown",
   "id": "3540a58e",
   "metadata": {},
   "source": [
    "Les chaînes de caractères doivent tenir sur une seule ligne par défaut. Un texte de plusieurs lignes doit être délimité par trois guillemets (simples ou doubles, tant que ce sont les mêmes au début et à la fin) :"
   ]
  },
  {
   "cell_type": "code",
   "execution_count": 7,
   "id": "76738708",
   "metadata": {},
   "outputs": [
    {
     "data": {
      "text/plain": [
       "'Voici un texte qui\\nprend plusieurs\\nlignes'"
      ]
     },
     "execution_count": 7,
     "metadata": {},
     "output_type": "execute_result"
    }
   ],
   "source": [
    "\"\"\"Voici un texte qui\n",
    "prend plusieurs\n",
    "lignes\"\"\""
   ]
  },
  {
   "cell_type": "markdown",
   "id": "b89ecfe4",
   "metadata": {},
   "source": [
    "## 2-Opérateurs sur les chaines de caractères\n",
    "L'opérateur + permet de concaténer deux chaînes de caractères, et l'opérateur * de répéter une chaîne un nombre entier de fois :"
   ]
  },
  {
   "cell_type": "code",
   "execution_count": 8,
   "id": "76bd9ddf",
   "metadata": {},
   "outputs": [
    {
     "data": {
      "text/plain": [
       "'bonjour'"
      ]
     },
     "execution_count": 8,
     "metadata": {},
     "output_type": "execute_result"
    }
   ],
   "source": [
    "\"bon\"+\"jour\""
   ]
  },
  {
   "cell_type": "code",
   "execution_count": 9,
   "id": "4cd39cb1",
   "metadata": {},
   "outputs": [
    {
     "data": {
      "text/plain": [
       "'hahaha'"
      ]
     },
     "execution_count": 9,
     "metadata": {},
     "output_type": "execute_result"
    }
   ],
   "source": [
    "\"ha\"*3"
   ]
  },
  {
   "cell_type": "markdown",
   "id": "79459e18",
   "metadata": {},
   "source": [
    "Les opérateurs de comparaison comparent les chaînes selon l'ordre alphabétique. Cependant les majuscules sont différentes des minuscules, et toutes les lettres majuscules précèdent les lettres minuscules : 'A' < 'Z' < 'a' < 'z'. On peut également tester si une chaîne apparait dans une autre chaine avec l'opérateur <code>in</code>, ou si elle n'apparait pas avec l'opérateur <code>not in</code>."
   ]
  },
  {
   "cell_type": "code",
   "execution_count": 10,
   "id": "e570bcc6",
   "metadata": {},
   "outputs": [
    {
     "data": {
      "text/plain": [
       "True"
      ]
     },
     "execution_count": 10,
     "metadata": {},
     "output_type": "execute_result"
    }
   ],
   "source": [
    "\"bon\"<\"jour\""
   ]
  },
  {
   "cell_type": "code",
   "execution_count": 11,
   "id": "e0360804",
   "metadata": {},
   "outputs": [
    {
     "data": {
      "text/plain": [
       "False"
      ]
     },
     "execution_count": 11,
     "metadata": {},
     "output_type": "execute_result"
    }
   ],
   "source": [
    "\"ha\"==\"HA\""
   ]
  },
  {
   "cell_type": "code",
   "execution_count": 12,
   "id": "b914105c",
   "metadata": {},
   "outputs": [
    {
     "data": {
      "text/plain": [
       "True"
      ]
     },
     "execution_count": 12,
     "metadata": {},
     "output_type": "execute_result"
    }
   ],
   "source": [
    "\"ou\" in \"bonjour\""
   ]
  },
  {
   "cell_type": "code",
   "execution_count": 13,
   "id": "038b38df",
   "metadata": {},
   "outputs": [
    {
     "data": {
      "text/plain": [
       "False"
      ]
     },
     "execution_count": 13,
     "metadata": {},
     "output_type": "execute_result"
    }
   ],
   "source": [
    "\"on\" not in \"bonjour\""
   ]
  },
  {
   "cell_type": "markdown",
   "id": "b5403422",
   "metadata": {},
   "source": [
    "Une fonction utile pour manipuler les chaînes de caractères est la fonction <code>len(s)</code> qui retourne la longueur de la chaîne s. Par exemple, <code>len('toto') == 4</code> est vrai."
   ]
  },
  {
   "cell_type": "code",
   "execution_count": 30,
   "id": "11155f62",
   "metadata": {},
   "outputs": [
    {
     "data": {
      "text/plain": [
       "76"
      ]
     },
     "execution_count": 30,
     "metadata": {},
     "output_type": "execute_result"
    }
   ],
   "source": [
    "len(\"bonjour, je me demande quelle est la longueur de cette chaine de caractères!\")"
   ]
  },
  {
   "cell_type": "markdown",
   "id": "31980bbb",
   "metadata": {},
   "source": [
    "## 3-Propriétés des chaines de caractères\n",
    "Les chaînes de caractères forment un type de base en Python. Elles ont cependant certaines caractéristiques des tableaux :\n",
    "\n",
    "- on peut obtenir la longueur d'une chaîne ch par la fonction Python <code>len(ch)</code> ;\n",
    "- on peut accéder aux caractères de la chaîne avec la notation indexée <code>ch[i]</code>. Par exemple <code>ch[0]</code> renvoie le 1er caractère, <code>ch[1]</code> renvoie le 2eme caractère, <code>ch[-1]</code> renvoie le dernier caractère, \n",
    "\n",
    "Cependant les chaînes sont immuables : on ne peut pas modifier leur contenu.\n",
    "\n",
    "L'affectation <code>ch[i] = \"X\"</code> provoque une erreur ;\n",
    "\n",
    "- on peut énumérer les caractères d'une chaîne par <code>for car in ch:</code> .\n",
    "\n",
    "On peut créer un tableau à partir d'une chaîne de caractères chaine en « découpant » celle-ci avec la méthode <code>chaine.split(separateur)</code>, qui prend en argument une autre chaîne de caractères separateur et retourne un tableau contenant les éléments de chaine initialement séparés par separateur. A l'inverse, la méthode <code>join</code> crée une chaîne de caractères en « collant » ensemble les éléments d'un tableau de chaînes avec un séparateur :"
   ]
  },
  {
   "cell_type": "code",
   "execution_count": 10,
   "id": "4df4d4bc",
   "metadata": {},
   "outputs": [
    {
     "name": "stdout",
     "output_type": "stream",
     "text": [
      "Cette phrase contient 22 caractères. Le premier caractère est J et le dernier est n\n",
      "['Je', 'programme', 'en', 'Python']\n",
      "Je progresse en Python\n",
      "JJJ\n",
      "eee\n",
      "   \n",
      "ppp\n",
      "rrr\n",
      "ooo\n",
      "ggg\n",
      "rrr\n",
      "eee\n",
      "sss\n",
      "sss\n",
      "eee\n",
      "   \n",
      "eee\n",
      "nnn\n",
      "   \n",
      "PPP\n",
      "yyy\n",
      "ttt\n",
      "hhh\n",
      "ooo\n",
      "nnn\n"
     ]
    }
   ],
   "source": [
    "phrase=\"Je programme en Python\"\n",
    "print(f\"Cette phrase contient {len(phrase)} caractères. Le premier caractère est {phrase[0]} et le dernier est {phrase[-1]}\")\n",
    "\n",
    "mots=phrase.split(\" \")     #['Je', 'programme', 'en', 'Python']\n",
    "print(mots)\n",
    "\n",
    "\n",
    "mots[1]=\"progresse\"\n",
    "phrase=\" \".join(mots)\n",
    "print(phrase)              #Je progresse en Python\n",
    "\n",
    "for car in phrase:         #On parcourt la chaine caractère par caractère\n",
    "    print (car*3)"
   ]
  },
  {
   "cell_type": "markdown",
   "id": "54c9a0b2",
   "metadata": {},
   "source": [
    "### Exercice 1\n",
    "Écrire une fonction <code>ValidPassword</code> qui prend en paramètre une chaine de caractère (le mot de passe) et retourne True si celui-ci vérifie les propriétés suivantes :\n",
    "- il a au moins 8 caractères\n",
    "- il a au moins une majuscule\n",
    "- il a au moins une minuscule\n",
    "- il a au moins un chiffre\n",
    "\n",
    "Pour cela, on pourra utiliser les codes ascii des caractère pour faire des vérifications. Voici quelques exemples :"
   ]
  },
  {
   "cell_type": "code",
   "execution_count": 7,
   "id": "5966eb07",
   "metadata": {},
   "outputs": [
    {
     "name": "stdout",
     "output_type": "stream",
     "text": [
      "Le code ASCII de p est 112\n",
      "Le caractère dont le code ASCII est 100 est d\n",
      "Le code ASCII de A est 65\n",
      "Le code ASCII de Z est 90\n",
      "p n'est pas une majuscule\n"
     ]
    }
   ],
   "source": [
    "# Programme pour trouver le code ASCII d'un caractère\n",
    "caractere = 'p'\n",
    "print(f\"Le code ASCII de {caractere} est {ord(caractere)}\")\n",
    "\n",
    "#à l'inverse, chr() permet de trouver le caractère correspondant à un code ascii\n",
    "print(f\"Le caractère dont le code ASCII est 100 est {chr(100)}\")\n",
    "\n",
    "\n",
    "#vérifier si un caractère est une majuscule\n",
    "caractere_A=\"A\"\n",
    "caractere_Z=\"Z\"\n",
    "print(f\"Le code ASCII de {caractere_A} est {ord(caractere_A)}\")\n",
    "print(f\"Le code ASCII de {caractere_Z} est {ord(caractere_Z)}\")\n",
    "\n",
    "if ord(caractere_A)<ord(caractere)<ord(caractere_Z):\n",
    "    print(f\"{caractere} est une majuscule\")\n",
    "else:\n",
    "    print(f\"{caractere} n'est pas une majuscule\")"
   ]
  },
  {
   "cell_type": "markdown",
   "id": "ba20618c",
   "metadata": {},
   "source": [
    "### Exercice 2\n",
    "Écrire une fonction <code>nb_mots</code> qui retourne le nombre de mots d'une chaine de caractère. On suppose que tous les mots sont séparés par des espaces. Ainsi <code>nb_mots(\"ce petit chat est malade\")</code> renvoie 5.\n",
    "\n",
    "(la méthode <code>split</code> vue dans ce cours peut-être utilisée)\n",
    "\n",
    "### Exercice 3\n",
    "Écrire une fonction <code>longueur_mots</code> qui prend en paramètre une phrase (une chaîne de caractères) et retourne un tableau contenant la longueur des mots qui la composent. Ainsi, <code>longueur_mots(\"ce petit chat est malade\")</code> retourne [2, 5, 4, 3, 6].\n",
    "\n",
    "(la méthode <code>split</code> vue dans ce cours peut-être utilisée. Les élèves les plus avancés ne l'utiliseront pas)\n",
    "\n",
    "## 4-Slices\n",
    "Pour terminer, on peut utiliser les \"slices\" pour accéder à une partie d'une chaine de caractère.\n",
    "La syntaxe à utiliser est <code>chaine[début:fin]</code> où début est l'indice du premier caractère qu'on affiche et fin est l'indice du premier caractère qui ne **sera pas** affiché.\n",
    "\n",
    "Par exemple <code>\"bonjour\"[2:5]</code> devrait afficher les caractères 2,3 et 4 de cette chaine, mais pas le 5ème."
   ]
  },
  {
   "cell_type": "code",
   "execution_count": 15,
   "id": "c01f4f3c",
   "metadata": {},
   "outputs": [
    {
     "data": {
      "text/plain": [
       "'njo'"
      ]
     },
     "execution_count": 15,
     "metadata": {},
     "output_type": "execute_result"
    }
   ],
   "source": [
    "\"bonjour\"[2:5]"
   ]
  },
  {
   "cell_type": "markdown",
   "id": "271d6496",
   "metadata": {},
   "source": [
    "cette syntaxe de slice marche aussi avec les listes! "
   ]
  },
  {
   "cell_type": "code",
   "execution_count": 17,
   "id": "c2a23c9b",
   "metadata": {},
   "outputs": [
    {
     "name": "stdout",
     "output_type": "stream",
     "text": [
      "['comment', 'ça']\n"
     ]
    }
   ],
   "source": [
    "maliste=[\"bonjour\",\"comment\",\"ça\",\"va\"]\n",
    "print(maliste[1:3])"
   ]
  },
  {
   "cell_type": "markdown",
   "id": "332278cf",
   "metadata": {},
   "source": [
    "Il est aussi à noter que le dernier indice d'une chaine ou d'une liste a pour valeur <code>len(ChaineOuListe)-1</code>, mais que Python permet d'y accéder directement avec l'indice -1.\n",
    "\n",
    "De même on peut écrire l'indice -2 pour accéder à l'avant dernier élément ou -3 pour l'avant-avant-dernier, etc..."
   ]
  },
  {
   "cell_type": "code",
   "execution_count": 28,
   "id": "302642d3",
   "metadata": {},
   "outputs": [
    {
     "name": "stdout",
     "output_type": "stream",
     "text": [
      "salut\n",
      "d\n",
      " tout le mond\n",
      " tout le monde\n",
      "[0, 1, 4, 9, 16, 25, 36, 49, 64, 81, 100, 121, 144, 169, 196, 225, 256, 289, 324, 361, 400]\n",
      "[0, 1, 4, 9, 16]\n",
      "361\n",
      "[25, 36, 49, 64, 81, 100, 121, 144, 169, 196, 225, 256, 289, 324, 361]\n",
      "[25, 36, 49, 64, 81, 100, 121, 144, 169, 196, 225, 256, 289, 324, 361, 400]\n"
     ]
    }
   ],
   "source": [
    "#quelques exemples de slices\n",
    "machaine=\"salut tout le monde\"\n",
    "print(machaine[0:5])   #les 5 premiers caractères (de 0 à 4)\n",
    "print(machaine[-2])    #l'avant-dernier caractère\n",
    "print(machaine[5:-1])  #le reste de la chaine (du 5eme caractère au dernier non inclus)\n",
    "print(machaine[5:])    #si on ne met pas de fin, la slice va jusqu'au bout\n",
    "\n",
    "#c'est pareil avec des listes\n",
    "maliste=[i**2 for i in range(21)] #tous les carrés de 0 à 20 (liste en compréhension)\n",
    "print(maliste)\n",
    "print(maliste[0:5])   #les 5 premiers éléments (de 0 à 4)\n",
    "print(maliste[-2])    #l'avant-dernier caractère\n",
    "print(maliste[5:-1])  #le reste de la liste (du 5eme élément au dernier non inclus)\n",
    "print(maliste[5:])    #si on ne met pas de fin, la slice va jusqu'au bout"
   ]
  },
  {
   "cell_type": "markdown",
   "id": "f0e8abab",
   "metadata": {},
   "source": [
    "### Exercice 4\n",
    "Un palindrome est un mot qui s'écrit de la même façon de la gauche vers la droite que de la droite vers la gauche. Par exemple, laval et kayak sont des palindromes.\n",
    "\n",
    "Écrire une fonction <code>palindrome</code> qui prend en paramètre une chaîne de caractères et retourne True si cette chaine est un palindrome. Ainsi, <code>palindrome(\"laval\")</code> retourne True.\n",
    "\n",
    "### Exercice 5\n",
    "Écrire une fonction <code>extrait_nom</code> qui prend en paramètre un courriel de stanislas et retourne le prénom et le nom de cette personne. Cette fonction renvoie None si l'adresse n'est pas valide.\n",
    "\n",
    "Ainsi, <code>extrait_nom(\"erwan.gouello@stanislas.qc.ca\")</code> retourne \"Erwan Gouello\".\n",
    "Par contre, <code>extrait_nom(\"toto@yahoo.ca\")</code> retourne None.\n"
   ]
  }
 ],
 "metadata": {
  "kernelspec": {
   "display_name": "Python 3",
   "language": "python",
   "name": "python3"
  },
  "language_info": {
   "codemirror_mode": {
    "name": "ipython",
    "version": 3
   },
   "file_extension": ".py",
   "mimetype": "text/x-python",
   "name": "python",
   "nbconvert_exporter": "python",
   "pygments_lexer": "ipython3",
   "version": "3.7.10"
  }
 },
 "nbformat": 4,
 "nbformat_minor": 5
}
