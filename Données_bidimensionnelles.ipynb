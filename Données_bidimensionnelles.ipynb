{
  "nbformat": 4,
  "nbformat_minor": 0,
  "metadata": {
    "colab": {
      "provenance": [],
      "authorship_tag": "ABX9TyMUU+X8ySLaYQxvnl0UXe85",
      "include_colab_link": true
    },
    "kernelspec": {
      "name": "python3",
      "display_name": "Python 3"
    },
    "language_info": {
      "name": "python"
    }
  },
  "cells": [
    {
      "cell_type": "markdown",
      "metadata": {
        "id": "view-in-github",
        "colab_type": "text"
      },
      "source": [
        "<a href=\"https://colab.research.google.com/github/egouello/1NSI/blob/main/Donn%C3%A9es_bidimensionnelles.ipynb\" target=\"_parent\"><img src=\"https://colab.research.google.com/assets/colab-badge.svg\" alt=\"Open In Colab\"/></a>"
      ]
    },
    {
      "cell_type": "markdown",
      "source": [
        "# Traitement de données bidimensionnelles\n",
        "\n",
        "## 1-Convention\n",
        "\n",
        "En pratique, on est souvent amené à travailler une table de données rectangulaire. De telles tables sont appelées matrices ou tableaux bidimensionnels. En Python, ce type de tables peut être représenté comme une liste de listes, c’est à dire une liste où chaque élément est une liste).\n",
        "\n",
        "Par exemple, le tableau ci-dessous  \n",
        "\n",
        "| | | |\n",
        "|---|---|---|\n",
        "|1|2|3|\n",
        "|4|5|6|\n",
        "\n",
        "peut être codé dans python par les instructions suivantes\n"
      ],
      "metadata": {
        "id": "t17QDopPpUjy"
      }
    },
    {
      "cell_type": "code",
      "execution_count": 26,
      "metadata": {
        "colab": {
          "base_uri": "https://localhost:8080/"
        },
        "id": "3LGAx_orpQMR",
        "outputId": "37e7acf8-a1d0-4b9a-be9b-f7bcf2719a47"
      },
      "outputs": [
        {
          "output_type": "stream",
          "name": "stdout",
          "text": [
            "[[1, 2, 3], [4, 5, 6]]\n"
          ]
        }
      ],
      "source": [
        "a=[[1,2,3],[4,5,6]]\n",
        "print(a)"
      ]
    },
    {
      "cell_type": "markdown",
      "source": [
        "Dans un tableau chaque élément est repéré par deux indices. Sa position sur la ligne et sa position dans la colonne. Dans une liste la numérotation des éléments commence à 0. Ainsi l’élément $a_{11}$ est l’élément du tableau qui se trouve dans la deuxième ligne et la deuxième colonne, soit $a_{11}$=5.\n",
        "\n",
        "Observez le code suivant et cherchez à bien comprendre ce qui se passe :"
      ],
      "metadata": {
        "id": "kTZY5x5CrGtS"
      }
    },
    {
      "cell_type": "code",
      "source": [
        "a=[[1,2,3],[4,5,6]]\n",
        "print(a[0])         #on imprime la première ligne\n",
        "print(a[1])         #on imprime la deuxième ligne\n",
        "print(a[0][1])      #on imprime la 2eme colonne de la 1ere ligne\n",
        "a[0][1]=7           #on affecte une nouvelle valeur à la 2eme colonne de la 1ere ligne\n",
        "print(a)            #on imprime le tableau pour constater que la 2eme colonne de la 1ere ligne a changé"
      ],
      "metadata": {
        "colab": {
          "base_uri": "https://localhost:8080/"
        },
        "id": "YDWK3vX7rA1I",
        "outputId": "8de11966-9e9b-4d51-e179-3d488ccd7eff"
      },
      "execution_count": 29,
      "outputs": [
        {
          "output_type": "stream",
          "name": "stdout",
          "text": [
            "[1, 2, 3]\n",
            "[4, 5, 6]\n",
            "2\n",
            "[[1, 7, 3], [4, 5, 6]]\n"
          ]
        }
      ]
    },
    {
      "cell_type": "markdown",
      "source": [
        "## 2- Parcourir les éléments d’un tableau\n",
        "\n",
        "Pour traiter un tableau à deux dimensions, on utilisera généralement des boucles imbriquées. La première boucle parcourt le numéro de ligne, la seconde boucle parcourt les éléments à l’intérieur d’une colonne.\n",
        "\n",
        "*enlevez les commentaires sur les print pour bien comprendre les boucles*"
      ],
      "metadata": {
        "id": "faiynvaLrzuO"
      }
    },
    {
      "cell_type": "code",
      "source": [
        "a=[[2,4,6],[1,3,5]]\n",
        "for i in range (len(a)):\n",
        "    #print(f\"on est rendu à la ligne {i}\")\n",
        "    for j in range(len(a[i])):\n",
        "        #print(f\"on est rendu à la colonne {j}\")\n",
        "        print (a[i][j])"
      ],
      "metadata": {
        "colab": {
          "base_uri": "https://localhost:8080/"
        },
        "id": "u4FwCNWHr83f",
        "outputId": "b7883d72-5247-4abe-fcea-5b013f80eb34"
      },
      "execution_count": 32,
      "outputs": [
        {
          "output_type": "stream",
          "name": "stdout",
          "text": [
            "2\n",
            "4\n",
            "6\n",
            "1\n",
            "3\n",
            "5\n"
          ]
        }
      ]
    },
    {
      "cell_type": "code",
      "source": [
        "a=[[2,4,6],[1,3,5]]\n",
        "for ligne in a:\n",
        "    #print(f\"on est rendu à la ligne {ligne}\")\n",
        "    for elem in ligne:\n",
        "        #print(f\"on est rendu à l'élément {elem}\")\n",
        "        print (elem)"
      ],
      "metadata": {
        "colab": {
          "base_uri": "https://localhost:8080/"
        },
        "id": "r9RSKg7hr9j_",
        "outputId": "fe4cb8d2-250e-41ef-971f-f9917d525395"
      },
      "execution_count": 34,
      "outputs": [
        {
          "output_type": "stream",
          "name": "stdout",
          "text": [
            "2\n",
            "4\n",
            "6\n",
            "1\n",
            "3\n",
            "5\n"
          ]
        }
      ]
    },
    {
      "cell_type": "markdown",
      "source": [
        "On peut ainsi calculer la somme des éléments d'un tableau :"
      ],
      "metadata": {
        "id": "9cDHW9vBsMEG"
      }
    },
    {
      "cell_type": "code",
      "source": [
        "a=[[2,4,6],[1,3,5]]\n",
        "s=0\n",
        "for ligne in a:\n",
        "    for  elem in ligne:\n",
        "        s=s+elem\n",
        "        #print(f\"on ajoute {elem} à s. s vaut maintenant {s}\")\n",
        "print (s)"
      ],
      "metadata": {
        "colab": {
          "base_uri": "https://localhost:8080/"
        },
        "id": "Mz1Ng7l7sHpv",
        "outputId": "93510816-154c-4173-a817-2b07e76d3075"
      },
      "execution_count": 36,
      "outputs": [
        {
          "output_type": "stream",
          "name": "stdout",
          "text": [
            "21\n"
          ]
        }
      ]
    },
    {
      "cell_type": "markdown",
      "source": [
        "## 3-Création de tableaux bidimensionnels\n",
        "\n",
        "Supposons que 2 nombres soient donnés : Le nombre de lignes n et le nombre de colonnes m.\n",
        "\n",
        "Comment créer un tableau bidimensionnel de taille $n\\times m$, rempli, par exemple de 0.  \n",
        "\n",
        "Une première méthode est de créer une liste de n éléments (ici n zéros) et ensuite remplacer chacun des éléments par une autre liste unidimensionnelle."
      ],
      "metadata": {
        "id": "SGkToSKIsatZ"
      }
    },
    {
      "cell_type": "code",
      "source": [
        "n=3  #nombre de lignes\n",
        "m=4  #nombre de colonnes\n",
        "a=[] #on crée une liste vide\n",
        "\n",
        "for i in range (n): #n fois\n",
        "    a.append([0]*m) #on ajoute une liste de m zéros dans la liste\n",
        "\n",
        "print (a)"
      ],
      "metadata": {
        "colab": {
          "base_uri": "https://localhost:8080/"
        },
        "id": "6ern2YPysXSW",
        "outputId": "6cf48d0a-6d80-4b03-a080-234b73b26eab"
      },
      "execution_count": 8,
      "outputs": [
        {
          "output_type": "stream",
          "name": "stdout",
          "text": [
            "[[0, 0, 0, 0], [0, 0, 0, 0], [0, 0, 0, 0]]\n"
          ]
        }
      ]
    },
    {
      "cell_type": "markdown",
      "source": [
        "## Exercice 1\n",
        "\n",
        "Dans toutes les questions suivantes, les programmes ou fonctions doivent évidemment marcher quelles que soient les valeurs dans le tableau.\n",
        "\n",
        "1. Créer le tableau suivant\n",
        "\n",
        "| | | | |\n",
        "|---|---|---|---|\n",
        "|5|25|36|17|\n",
        "|4|2|5|1|\n",
        "|21|3|65|13|\n",
        "\n",
        "2. Écrire un programme qui permet de trouver le maximum dans ce tableau.\n",
        "\n",
        "3. Écrire un programme qui permet de calculer la somme de tous les éléments du tableau.\n",
        "\n",
        "4. Écrire un programme qui demande une valeur et indique si cette valeur se trouve ou non dans le tableau (True or False)\n",
        "\n",
        "5. Écrire un programme qui demande un numéro de colonne (la première est numéroté 0) et calcule la somme des éléments de cette colonne.  \n",
        "\n",
        "5. Écrire un programme qui demande un numéro de ligne (la première est numéroté 0) et calcule la somme des éléments de cette ligne."
      ],
      "metadata": {
        "id": "fTdHI7nIt4oB"
      }
    },
    {
      "cell_type": "code",
      "source": [
        "#exercice 1\n",
        "\n",
        "#1 on crée le tableau demandé\n",
        "tab=[\"à faire\"]\n",
        "\n",
        "#2 on calcule le max du tableau. Conseil : on fait une boucle pour parcourir toutes les valeurs\n",
        "\n",
        "#...à suivre\n"
      ],
      "metadata": {
        "id": "1CLb2_Kqs_tS"
      },
      "execution_count": null,
      "outputs": []
    },
    {
      "cell_type": "markdown",
      "source": [
        "## 4 - Les fichiers CSV et les fichiers texte tabulé, utilisation de la bibliothèque csv\n",
        "\n",
        "De nombreuses données scientifiques se présentent sous forme de tableaux ; une façon simple de les transmettre est de les représenter par un fichier CSV (pour comma-separated value) : il s’agit d’un simple fichier texte, chaque ligne de texte correspondant à une ligne du tableau et un caractère spécial (virgule ou point-virgule le plus souvent) aux séparations entre les colonnes.\n",
        "\n",
        "Voici un exemple de données au format csv :\n",
        "\n",
        "**Nom,Prénom,Age**\n",
        "\n",
        "**Durand,Jean,31**\n",
        "\n",
        "**Hanad,Mohammed,23**\n",
        "\n",
        "**Phan,Lee,18**\n",
        "\n",
        "On va maintenant travailler sur une méthode pour récupérer ces données dans Python grâce à deux bibliothèques implémentées dans Python: Les bibliothèques CSV et Pandas\n",
        "\n",
        "Dans la suite de la leçon, nous utiliserons le fichier ```fakename.csv```. Ce fichier csv a pour délimiteur le symbole «,». Il contient le nom, le prénom, l’âge, le sexe (male ou female), l’état de résidence (en abrégé), la taille et le poids d’un échantillon fictif de la population américaine.\n",
        "\n",
        "### 4.1 - Importation des données"
      ],
      "metadata": {
        "id": "8iscFoC2vXUe"
      }
    },
    {
      "cell_type": "code",
      "source": [
        "import csv\n",
        "base=[]\n",
        "with open (\"fakename2.csv\",newline=\"\") as csvfile: #on ouvre le fichier en lecture\n",
        "    spamreader=csv.reader(csvfile,delimiter=\",\")   #on précise que le délimiteur est la virgule\n",
        "    for row in spamreader:                         #Chaque ligne qu'on lit...\n",
        "        base.append(row)                           #est ajoutée dans la liste\n",
        "print(base)\n",
        "print(base[0])\n",
        "print(base[1])\n"
      ],
      "metadata": {
        "colab": {
          "base_uri": "https://localhost:8080/"
        },
        "id": "MWDmDjL9w3sf",
        "outputId": "86a85c41-c8f0-445c-ee26-23fa3f29f21e"
      },
      "execution_count": 11,
      "outputs": [
        {
          "output_type": "stream",
          "name": "stdout",
          "text": [
            "[['Nom', 'Prenom', 'Genre', 'Etat', 'Age', 'Poids', 'Taille'], ['Mcclean', 'John', 'male', 'AZ', '84', '93.4', '181'], ['Reyes', 'Estelle', 'female', 'FL', '70', '57.6', '155'], ['Bell', 'James', 'male', 'FL', '71', '93.0', '183'], ['Miller', 'Evelyn', 'female', 'TX', '28', '87.4', '157'], ['Nunn', 'Lisa', 'female', 'KY', '22', '83.5', '170'], ['Hess', 'Delmer', 'male', 'IN', '43', '114.4', '184'], ['Wynne', 'Timothy', 'male', 'WI', '21', '99.1', '180'], ['Burns', 'John', 'male', 'PA', '35', '70.4', '175'], ['Ouellette', 'Willian', 'male', 'CO', '47', '81.3', '174'], ['Beaudin', 'Thomasena', 'female', 'VA', '49', '96.6', '160'], ['Norris', 'Regina', 'female', 'TX', '27', '81.4', '160'], ['Ross', 'Sandra', 'female', 'MS', '79', '78.2', '150'], ['Puryear', 'Tiffany', 'female', 'IN', '58', '94.2', '163'], ['Jenkins', 'Philip', 'male', 'CA', '64', '64.9', '181'], ['Rencher', 'Theresa', 'female', 'OH', '73', '63.1', '151'], ['Weinberg', 'Roy', 'male', 'CA', '36', '109.2', '182'], ['Bruns', 'Shirley', 'female', 'VA', '47', '105.0', '174'], ['Smith', 'James', 'male', 'FL', '83', '81.0', '176'], ['Freeman', 'Jerry', 'male', 'NV', '50', '83.2', '173'], ['Beltran', 'John', 'male', 'LA', '42', '116.9', '178'], ['Rooney', 'Celine', 'female', 'NY', '29', '94.1', '172'], ['Judkins', 'Eleanora', 'female', 'TX', '79', '98.0', '168'], ['Geiger', 'Beth', 'female', 'MN', '21', '63.3', '162'], ['Piccirillo', 'Sandra', 'female', 'CA', '36', '104.9', '160'], ['Cole', 'Latoya', 'female', 'NJ', '85', '94.0', '162'], ['Lopez', 'Danielle', 'female', 'AL', '32', '51.6', '172'], ['Deane', 'Lana', 'female', 'OK', '48', '50.1', '166'], ['Holt', 'Ruby', 'female', 'TX', '29', '100.5', '160'], ['Ovalle', 'Daniel', 'male', 'PA', '45', '71.4', '177'], ['Johnson', 'Michelle', 'female', 'AZ', '49', '96.8', '153'], ['Grubb', 'Jill', 'female', 'VA', '76', '79.9', '151'], ['Flores', 'Nathaniel', 'male', 'IL', '72', '89.4', '170'], ['Caldwell', 'Rose', 'female', 'NJ', '78', '74.2', '157'], ['Ambrose', 'Judith', 'female', 'AZ', '25', '92.0', '169'], ['Mack', 'Corey', 'male', 'AL', '62', '65.3', '168'], ['Poteete', 'Scott', 'male', 'UT', '56', '71.7', '171'], ['Bishop', 'Linda', 'female', 'IL', '72', '79.0', '166'], ['Polk', 'Jennifer', 'female', 'CT', '53', '62.0', '166'], ['Macias', 'Cynthia', 'female', 'MD', '71', '92.6', '159'], ['Kent', 'Stacy', 'male', 'TX', '69', '82.8', '166'], [\"O'Reilly\", 'Mary', 'female', 'GA', '65', '93.2', '157'], ['Smith', 'John', 'male', 'NY', '37', '93.4', '177'], ['Dotson', 'Melissa', 'female', 'TN', '77', '67.8', '165'], ['Thomson', 'Daniel', 'male', 'AZ', '59', '68.6', '174'], ['Lipscomb', 'Teresa', 'female', 'ID', '55', '76.7', '169'], ['Sin', 'Narcisa', 'female', 'FL', '26', '91.0', '159'], ['Brown', 'Judith', 'female', 'ID', '73', '81.8', '159'], ['Brady', 'Donna', 'female', 'VA', '56', '104.3', '168'], ['Wallace', 'Barbara', 'female', 'VA', '29', '58.4', '173'], ['Roberts', 'Deborah', 'female', 'TX', '66', '95.5', '170'], ['Bowser', 'Holly', 'female', 'NM', '41', '53.9', '172'], ['Hill', 'Regina', 'female', 'NC', '80', '51.6', '168'], ['Poole', 'Diane', 'female', 'NJ', '67', '79.4', '155'], ['McCabe', 'Roberta', 'female', 'CA', '55', '102.9', '162'], ['Legros', 'Lori', 'female', 'MI', '56', '77.2', '168'], ['Craft', 'Jose', 'male', 'AK', '74', '78.2', '183'], ['Norman', 'Tawnya', 'female', 'CA', '51', '95.3', '173'], ['Winger', 'Arthur', 'male', 'WA', '62', '107.8', '178'], ['Hodo', 'Regina', 'female', 'IL', '44', '60.6', '165'], ['Cooper', 'John', 'male', 'TX', '37', '100.3', '184'], ['Bush', 'Steve', 'male', 'TX', '21', '65.1', '170'], ['Clinton', 'John', 'male', 'TX', '54', '67.8', '158'], ['Cameron', 'John', 'male', 'TX', '38', '78.5', '181']]\n",
            "['Nom', 'Prenom', 'Genre', 'Etat', 'Age', 'Poids', 'Taille']\n",
            "['Mcclean', 'John', 'male', 'AZ', '84', '93.4', '181']\n"
          ]
        }
      ]
    },
    {
      "cell_type": "markdown",
      "source": [
        "Cette méthode présente certaines limites dans la mesure où la première ligne de notre tableau est constituée des entêtes de chaque colonne. Plus problématique, il n’y a pas de lien entre les valeurs du ```base[1]``` et le nom des enregistrements contenu dans ```base[0]```.\n",
        "\n",
        "Pour y remédier, nous allons utiliser ```DictReader``` qui retourne un dictionnaire pour chaque enregistrement, la première ligne étant utilisée pour nommer les différents champs."
      ],
      "metadata": {
        "id": "Ym-5--oPyPF5"
      }
    },
    {
      "cell_type": "code",
      "source": [
        "import csv\n",
        "base=[]\n",
        "with open (\"fakename2.csv\",newline=\"\")as csvfile:\n",
        "    spamreader=csv.DictReader(csvfile,delimiter=\",\")\n",
        "    for row in spamreader:\n",
        "        base.append(dict(row))\n",
        "print(base[0]) # la première personne\n",
        "print(base[1]) #la deuxième personne"
      ],
      "metadata": {
        "colab": {
          "base_uri": "https://localhost:8080/"
        },
        "id": "qFU3LqbByMFZ",
        "outputId": "0a225405-1533-4122-990c-4875067871d7"
      },
      "execution_count": 14,
      "outputs": [
        {
          "output_type": "stream",
          "name": "stdout",
          "text": [
            "{'Nom': 'Mcclean', 'Prenom': 'John', 'Genre': 'male', 'Etat': 'AZ', 'Age': '84', 'Poids': '93.4', 'Taille': '181'}\n",
            "{'Nom': 'Reyes', 'Prenom': 'Estelle', 'Genre': 'female', 'Etat': 'FL', 'Age': '70', 'Poids': '57.6', 'Taille': '155'}\n"
          ]
        }
      ]
    },
    {
      "cell_type": "markdown",
      "source": [
        "### 4.2 - Tri des données\n",
        "\n",
        "Pour exploiter des données il peut être intéressant de les trier. Une utilisation possible est l’obtention du classement des entrées selon tel ou tel critère.\n",
        "\n",
        "Il est nécessaire d’indiquer le critère selon lequel on veut trier le tableau. Pour cela, on utilise la méthode ```sort``` avec comme argument ```key=cle_tri``` qui est une fonction qui retourne la valeur selon laquelle on veut trier les données.  "
      ],
      "metadata": {
        "id": "wzpJFLxIzDQ4"
      }
    },
    {
      "cell_type": "code",
      "source": [
        "import csv\n",
        "base=[]\n",
        "with open (\"fakename2.csv\",newline=\"\")as csvfile:\n",
        "    spamreader=csv.DictReader(csvfile,delimiter=\",\")\n",
        "    for row in spamreader:\n",
        "        base.append(dict(row))\n",
        "\n",
        "# creation d’une fonction qui renvoie la valeur de la clé « taille »\n",
        "def cle_tri(p):\n",
        "    return float( p[\"Taille\"])\n",
        "\n",
        "base.sort(key=cle_tri) #on trie selon ce que renvoie cle_tri, donc selon la taille\n",
        "print(base[0]) #la personne la plus petite\n",
        "print(base[1]) #la 2eme personne la plus petite\n",
        "print(base[2])\n"
      ],
      "metadata": {
        "colab": {
          "base_uri": "https://localhost:8080/"
        },
        "id": "AXEl9CaTykai",
        "outputId": "2a821117-e523-4ef3-8f9a-5eaa1ed34161"
      },
      "execution_count": 16,
      "outputs": [
        {
          "output_type": "stream",
          "name": "stdout",
          "text": [
            "{'Nom': 'Ross', 'Prenom': 'Sandra', 'Genre': 'female', 'Etat': 'MS', 'Age': '79', 'Poids': '78.2', 'Taille': '150'}\n",
            "{'Nom': 'Rencher', 'Prenom': 'Theresa', 'Genre': 'female', 'Etat': 'OH', 'Age': '73', 'Poids': '63.1', 'Taille': '151'}\n",
            "{'Nom': 'Grubb', 'Prenom': 'Jill', 'Genre': 'female', 'Etat': 'VA', 'Age': '76', 'Poids': '79.9', 'Taille': '151'}\n"
          ]
        }
      ]
    },
    {
      "cell_type": "markdown",
      "source": [
        "### 4.3 - Exploitation des données\n",
        "\n",
        "Interrogation de la base de données grâce à des listes en compréhension.\n",
        "\n",
        "On peut poser des questions simples en Python. Par exemple, **quels sont les noms des personnes vivant au Texas (TX)?**\n",
        "\n",
        "*On remarque que les 7 premières lignes sont toujours les mêmes, en fait on n'a plus besoin de les réécrire car le notebook jupyter se souvient de la variable base qui contient nos personnes*"
      ],
      "metadata": {
        "id": "5a0c7YWGzxQj"
      }
    },
    {
      "cell_type": "code",
      "source": [
        "les_texans=[p[\"Nom\"] for p in base if p[\"Etat\"]==\"TX\"]  #c'est cette ligne qu'il faut bien comprendre!\n",
        "print(les_texans)"
      ],
      "metadata": {
        "colab": {
          "base_uri": "https://localhost:8080/"
        },
        "id": "Cxgr-c_hzeX8",
        "outputId": "1851deb5-d322-4dcc-ab85-3cfd8870238c"
      },
      "execution_count": 24,
      "outputs": [
        {
          "output_type": "stream",
          "name": "stdout",
          "text": [
            "['Miller', 'Norris', 'Judkins', 'Holt', 'Kent', 'Roberts', 'Cooper', 'Bush', 'Clinton', 'Cameron']\n"
          ]
        }
      ]
    },
    {
      "cell_type": "markdown",
      "source": [
        "**Quels sont les prénoms des personnes qui vivent au Texas?**"
      ],
      "metadata": {
        "id": "YaNUwh2z0Qye"
      }
    },
    {
      "cell_type": "code",
      "source": [
        "prenom=[p[\"Prenom\"] for p in base if p[\"Etat\"]==\"TX\"] #c'est cette ligne qu'il faut bien comprendre!\n",
        "print(prenom)"
      ],
      "metadata": {
        "colab": {
          "base_uri": "https://localhost:8080/"
        },
        "id": "xiNfFIQa0HvQ",
        "outputId": "9dbd3b26-21a9-4ac0-89ce-e763e62c2e00"
      },
      "execution_count": 21,
      "outputs": [
        {
          "output_type": "stream",
          "name": "stdout",
          "text": [
            "['Evelyn', 'Regina', 'Eleanora', 'Ruby', 'Stacy', 'Deborah', 'John', 'Steve', 'John', 'John']\n"
          ]
        }
      ]
    },
    {
      "cell_type": "markdown",
      "source": [
        "**Quels sont les prénoms des personnes qui vivent au Texas?** (mais sans répétition des prénoms identiques)"
      ],
      "metadata": {
        "id": "llKd8lvOBOcr"
      }
    },
    {
      "cell_type": "code",
      "source": [
        "prenom=set([p[\"Prenom\"] for p in base if p[\"Etat\"]==\"TX\"]) #on transforme la liste en ensemble (set en anglais)\n",
        "print(prenom)"
      ],
      "metadata": {
        "colab": {
          "base_uri": "https://localhost:8080/"
        },
        "id": "_NTN6YFR0W6Q",
        "outputId": "49b7259c-52a0-4139-8136-a94050fc942e"
      },
      "execution_count": 22,
      "outputs": [
        {
          "output_type": "stream",
          "name": "stdout",
          "text": [
            "{'Steve', 'Ruby', 'John', 'Evelyn', 'Deborah', 'Regina', 'Stacy', 'Eleanora'}\n"
          ]
        }
      ]
    },
    {
      "cell_type": "markdown",
      "source": [
        "**Quels sont les noms des personnes de plus de cinquante ans?**"
      ],
      "metadata": {
        "id": "jw4bJgZ8ByKB"
      }
    },
    {
      "cell_type": "code",
      "source": [
        "quinqua=[p[\"Nom\"] for p in base if float(p[\"Age\"])>=50]\n",
        "print(quinqua)"
      ],
      "metadata": {
        "colab": {
          "base_uri": "https://localhost:8080/"
        },
        "id": "E8LuD3jXBt6r",
        "outputId": "805cf086-c344-41c9-c659-205e2f15524a"
      },
      "execution_count": 23,
      "outputs": [
        {
          "output_type": "stream",
          "name": "stdout",
          "text": [
            "['Mcclean', 'Reyes', 'Bell', 'Ross', 'Puryear', 'Jenkins', 'Rencher', 'Smith', 'Freeman', 'Judkins', 'Cole', 'Grubb', 'Flores', 'Caldwell', 'Mack', 'Poteete', 'Bishop', 'Polk', 'Macias', 'Kent', \"O'Reilly\", 'Dotson', 'Thomson', 'Lipscomb', 'Brown', 'Brady', 'Roberts', 'Hill', 'Poole', 'McCabe', 'Legros', 'Craft', 'Norman', 'Winger', 'Clinton']\n"
          ]
        }
      ]
    },
    {
      "cell_type": "markdown",
      "source": [
        "## Exercice 2\n",
        "\n",
        "Le fichier classement.csv est un fichier dont le délimiteur est le symbole «;» qui donne des informations sur les 50 plus grosses entreprises du monde.\n",
        "\n",
        "1. Donner l’intitulé de chaque colonne du fichier csv.\n",
        "\n",
        "2. Écrire une fonction qui prend en paramètre un numéro de ligne et renvoie l’ensemble des informations de l’entreprise concernée.\n",
        "\n",
        "3. Trier les entreprises par nombre d’employés\n",
        "\n",
        "4. Trier les entreprises par pays puis par bénéfices\n",
        "\n",
        "5. Quels sont les entreprises qui ont employé moins de 300 000 personnes?\n",
        "\n",
        "6. Combien d’entreprise font partie du secteur « Banque »?\n",
        "\n",
        "7. Trier les entreprises par pays puis par nombre d’employés\n",
        "\n",
        "8. Quelles sont les entreprises qui ont employé entre 100 000 et 300 000 personnes?\n",
        "\n",
        "9. Lister les entreprises automobiles en affichant leur nom et leur bénéfice\n",
        "\n",
        "10. Lister les entreprises technologiques en les classant par chiffre d’affaire. Afficher seulement le nom, le pays et le CA\n",
        "\n",
        ""
      ],
      "metadata": {
        "id": "4gvP12hnCuCB"
      }
    },
    {
      "cell_type": "code",
      "source": [
        "#début de l'exercice 2\n",
        "import csv\n",
        "base=[]\n",
        "with open (\"classement.csv\",newline=\"\")as csvfile:\n",
        "    spamreader=csv.DictReader(csvfile,delimiter=\";\")\n",
        "    for row in spamreader:\n",
        "        base.append(dict(row))\n",
        "\n",
        "#maintenant, la variable base est une liste de dictionnaires contenant les 50 plus grosses entreprises\n",
        "print(base)\n",
        "\n",
        "#à vous maintenant de répondre ici à la question 1"
      ],
      "metadata": {
        "colab": {
          "base_uri": "https://localhost:8080/"
        },
        "id": "knLaIL9-DAqH",
        "outputId": "5b7c0fff-d50c-42fc-9f37-419f84cf3307"
      },
      "execution_count": 25,
      "outputs": [
        {
          "output_type": "stream",
          "name": "stdout",
          "text": [
            "[{'Nom': 'Walmart', 'Siege': 'Bentonville', 'Pays ': 'etats-Unis', \"Chiffre d'affaire\": '500343', 'Benefice': '9862', 'employe': '23000002', 'Secteur': 'Commerce de detail'}, {'Nom': 'StateGrid', 'Siege': 'Pekin', 'Pays ': 'Chine', \"Chiffre d'affaire\": '348903', 'Benefice': '9533', 'employe': '913546', 'Secteur': 'energie'}, {'Nom': 'Sinopec', 'Siege': 'Pekin', 'Pays ': 'Chine', \"Chiffre d'affaire\": '326953', 'Benefice': '1537', 'employe': '667793', 'Secteur': 'Petrole et Gaz'}, {'Nom': 'ChinaNationalPetroleumCorporation', 'Siege': 'Pekin', 'Pays ': 'Chine', \"Chiffre d'affaire\": '326008', 'Benefice': '-690', 'employe': '1470193', 'Secteur': 'Petrole&Gaz'}, {'Nom': 'RoyalDutchShell', 'Siege': 'LaHaye', 'Pays ': 'Pays-Bas', \"Chiffre d'affaire\": '311870', 'Benefice': '12977', 'employe': '84000', 'Secteur': 'Petrole et Gaz'}, {'Nom': 'ToyotaMotorCorporation', 'Siege': 'Toyota', 'Pays ': 'Japon', \"Chiffre d'affaire\": '265172', 'Benefice': '22510', 'employe': '369124', 'Secteur': 'Automobile'}, {'Nom': 'Volkswagen', 'Siege': 'Wolfsburg', 'Pays ': 'Allemagne', \"Chiffre d'affaire\": '260028', 'Benefice': '13107', 'employe': '642292', 'Secteur': 'Automobile'}, {'Nom': 'BP', 'Siege': 'Londres', 'Pays ': 'Royaume-Uni', \"Chiffre d'affaire\": '244582', 'Benefice': '3389', 'employe': '74000', 'Secteur': 'PetroleetGaz'}, {'Nom': 'ExxonMobil', 'Siege': 'Irving', 'Pays ': 'etats-Unis', \"Chiffre d'affaire\": '244363', 'Benefice': '19710', 'employe': '71200', 'Secteur': 'PetroleetGaz'}, {'Nom': 'BerkshireHathaway', 'Siege': 'Omaha', 'Pays ': 'etats-Unis', \"Chiffre d'affaire\": '242137', 'Benefice': '44940', 'employe': '377000', 'Secteur': 'Finance'}, {'Nom': 'Apple', 'Siege': 'Cupertino', 'Pays ': 'etats-Unis', \"Chiffre d'affaire\": '229234', 'Benefice': '48351', 'employe': '123000', 'Secteur': 'Technologie'}, {'Nom': 'SamsungElectronics', 'Siege': 'Suwon', 'Pays ': 'CoreeduSud', \"Chiffre d'affaire\": '211940', 'Benefice': '36575', 'employe': '320671', 'Secteur': 'Technologie'}, {'Nom': 'McKesson', 'Siege': 'SanFransisco', 'Pays ': 'etats-Unis', \"Chiffre d'affaire\": '208357', 'Benefice': '67', 'employe': '68000', 'Secteur': 'Bien-etre'}, {'Nom': 'Glencore', 'Siege': 'Baar', 'Pays ': 'Suisse', \"Chiffre d'affaire\": '205476', 'Benefice': '5777', 'employe': '82681', 'Secteur': 'Mine'}, {'Nom': 'UnitedHealthGroup', 'Siege': 'Minnetonka', 'Pays ': 'etats-Unis', \"Chiffre d'affaire\": '201159', 'Benefice': '10558', 'employe': '260000', 'Secteur': 'Assurance et Bien-etre'}, {'Nom': 'DaimlerAG', 'Siege': 'Stuttgart', 'Pays ': 'Allemagne', \"Chiffre d'affaire\": '185235', 'Benefice': '11863', 'employe': '289321', 'Secteur': 'Automobile'}, {'Nom': 'CVSHealth', 'Siege': 'Woonsocket', 'Pays ': 'etats-Unis', \"Chiffre d'affaire\": '184765', 'Benefice': '6622', 'employe': '203000', 'Secteur': 'Assurance&Pharmacie'}, {'Nom': 'Amazon', 'Siege': 'Seattle', 'Pays ': 'etats-Unis', \"Chiffre d'affaire\": '177866', 'Benefice': '3033', 'employe': '566000', 'Secteur': 'Commerce electronique'}, {'Nom': 'EXOR', 'Siege': 'Amsterdam', 'Pays ': 'Pays-Bas', \"Chiffre d'affaire\": '161677', 'Benefice': '1569', 'employe': '307637', 'Secteur': 'Finance'}, {'Nom': 'AT&T', 'Siege': 'Dallas', 'Pays ': 'etats-Unis', \"Chiffre d'affaire\": '160546', 'Benefice': '29450', 'employe': '254000', 'Secteur': 'Telecommunication'}, {'Nom': 'BanqueindustrielleetcommercialedeChine', 'Siege': 'Pekin', 'Pays ': 'Chine', \"Chiffre d'affaire\": '153021', 'Benefice': '42323', 'employe': '453048', 'Secteur': 'Banque'}, {'Nom': 'PingAnInsurance', 'Siege': 'Shenzhen', 'Pays ': 'Chine', \"Chiffre d'affaire\": '144197', 'Benefice': '13181', 'employe': '342550', 'Secteur': 'Banque'}, {'Nom': 'ChinaConstructionBank', 'Siege': 'Pekin', 'Pays ': 'Chine', \"Chiffre d'affaire\": '138594', 'Benefice': '35845', 'employe': '370415', 'Secteur': 'Banque'}, {'Nom': 'Verizon', 'Siege': 'NewYork', 'Pays ': 'etats-Unis', \"Chiffre d'affaire\": '126034', 'Benefice': '30101', 'employe': '155400', 'Secteur': 'Telecommunications'}, {'Nom': 'AgriculturalBankofChina', 'Siege': 'Pekin', 'Pays ': 'Chine', \"Chiffre d'affaire\": '122366', 'Benefice': '28550', 'employe': '491578', 'Secteur': 'Banque'}, {'Nom': 'BankofChina', 'Siege': 'Pekin', 'Pays ': 'Chine', \"Chiffre d'affaire\": '491578', 'Benefice': '25509', 'employe': '311133', 'Secteur': 'Banque'}, {'Nom': 'JPMorganChase&Co.', 'Siege': 'NewYork', 'Pays ': 'etats-Unis', \"Chiffre d'affaire\": '113899', 'Benefice': '24441', 'employe': '252539', 'Secteur': 'Banque'}, {'Nom': 'Gazprom', 'Siege': 'Moscou', 'Pays ': 'Russie', \"Chiffre d'affaire\": '111983', 'Benefice': '12249', 'employe': '469600', 'Secteur': 'energie'}]\n"
          ]
        }
      ]
    },
    {
      "cell_type": "code",
      "source": [
        "#vous pouvez écrire la fonction de la question 2 ici"
      ],
      "metadata": {
        "id": "gd7WOuEFEHUE"
      },
      "execution_count": null,
      "outputs": []
    },
    {
      "cell_type": "code",
      "source": [
        "#question 3 ici..."
      ],
      "metadata": {
        "id": "l7M-35WGEHmb"
      },
      "execution_count": null,
      "outputs": []
    },
    {
      "cell_type": "code",
      "source": [],
      "metadata": {
        "id": "ERF5fAHaEHvU"
      },
      "execution_count": null,
      "outputs": []
    },
    {
      "cell_type": "code",
      "source": [],
      "metadata": {
        "id": "4q5PVtOTEZcT"
      },
      "execution_count": null,
      "outputs": []
    },
    {
      "cell_type": "code",
      "source": [],
      "metadata": {
        "id": "A7lQ1p_dEZff"
      },
      "execution_count": null,
      "outputs": []
    },
    {
      "cell_type": "code",
      "source": [],
      "metadata": {
        "id": "MXRgNhNJEZh5"
      },
      "execution_count": null,
      "outputs": []
    },
    {
      "cell_type": "code",
      "source": [],
      "metadata": {
        "id": "mO3lLC4HEZk2"
      },
      "execution_count": null,
      "outputs": []
    },
    {
      "cell_type": "code",
      "source": [],
      "metadata": {
        "id": "X9l1EVgcEZoU"
      },
      "execution_count": null,
      "outputs": []
    }
  ]
}