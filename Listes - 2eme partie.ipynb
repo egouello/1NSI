{
 "cells": [
  {
   "cell_type": "markdown",
   "id": "ed1def04",
   "metadata": {},
   "source": [
    "On poursuit dans ce TP l'exploration des listes en Python. À la fin de ce TP, vous devrez bien maîtriser les boucles pour parcourir les listes et comprendre le principe des listes en compréhension.\n",
    "\n",
    "# 1- Rappel : parcours d'une liste\n",
    "\n",
    "On rappelle que l'on peut parcourir les éléments d'une liste très facilement à l'aide d'une boucle <code>for</code>"
   ]
  },
  {
   "cell_type": "code",
   "execution_count": 2,
   "id": "96aa794e",
   "metadata": {},
   "outputs": [
    {
     "name": "stdout",
     "output_type": "stream",
     "text": [
      "1\n",
      "2\n",
      "4\n",
      "5\n",
      "6\n"
     ]
    }
   ],
   "source": [
    "maliste=[1,2,4,5,6]\n",
    "for i in maliste:\n",
    "    print(i) "
   ]
  },
  {
   "cell_type": "markdown",
   "id": "d13b5fd6",
   "metadata": {},
   "source": [
    "Grâce à cette boucle for, on peut mettre en place des algorithmes pour chercher une valeur, ou calculer une moyenne ou calculer un maximum. Vous allez devoir compléter les algorithmes suivants pour qu'ils fonctionnent correctement.\n",
    "\n",
    "## Exercice 1 - calcul d'une moyenne\n",
    "Compléter le programme suivant pour qu'il calcule correctement la moyenne d'une liste\n"
   ]
  },
  {
   "cell_type": "code",
   "execution_count": null,
   "id": "cf64cfbe",
   "metadata": {},
   "outputs": [],
   "source": [
    "def moyenne(liste):\n",
    "    somme_valeurs=0\n",
    "    for i in liste:\n",
    "        #on parcours la liste élément par élément\n",
    "        # il faut additionner le nouvel élément à la somme des valeurs\n",
    "    return ... #la moyenne est la somme des valeurs divisée par le nombre de valeurs qui correspond à len(liste)\n",
    "\n",
    "############################################\n",
    "# Partie pour tester la fonction moyenne\n",
    "############################################\n",
    "liste_test=[8,9,10,11,12,0,20]\n",
    "print(moyenne(liste_test)) #la moyenne doit renvoyer 10\n",
    "    "
   ]
  },
  {
   "cell_type": "markdown",
   "id": "1b1755f2",
   "metadata": {},
   "source": [
    "## Exercice 2 - recherche d'une valeur\n",
    "créer une fonction qui prend en paramètre une valeur et une liste et indique si l'élément se trouve ou non dans la liste"
   ]
  },
  {
   "cell_type": "code",
   "execution_count": null,
   "id": "593e54e7",
   "metadata": {},
   "outputs": [],
   "source": [
    "def recherche(item,liste):\n",
    "    #renvoie True si item se trouve dans la liste\n",
    "    #renvoie False sinon\n",
    "    \n",
    "    trouve=False #au début on n'a pas trouvé la valeur\n",
    "    for i in liste:\n",
    "        #i va prendre tour après tour toutes les valeurs de la liste\n",
    "        #il suffit de voir si i == item pour qu'on puisse avoir trouve\n",
    "    return trouve\n",
    "\n",
    "############################################\n",
    "# Partie pour tester la fonction recherche\n",
    "############################################\n",
    "liste_test=[8,9,10,11,12,0,20]\n",
    "print(recherche(10,liste_test)) #doit renvoyer True\n",
    "print(recherche(20,liste_test)) #doit renvoyer True\n",
    "print(recherche(15,liste_test)) #doit renvoyer False"
   ]
  },
  {
   "cell_type": "markdown",
   "id": "94057083",
   "metadata": {},
   "source": [
    "## Exercice 3 - maximum d'une liste\n",
    "créer une fonction maximum qui prend en paramètre une liste et indique quel est le maximum \n",
    "de cette liste. ATTENTION, vous ne pouvez pas utiliser la fonction max de Python qui fait déjà ce travail!"
   ]
  },
  {
   "cell_type": "code",
   "execution_count": null,
   "id": "03610e63",
   "metadata": {},
   "outputs": [],
   "source": [
    "def maximum(liste):\n",
    "    #renvoie l'élément maximum dans la liste\n",
    "    max=liste[0] #on initialise le max à la première valeur de la liste\n",
    "    for i in liste:\n",
    "        #i va prendre tour après tour toutes les valeurs de la liste\n",
    "        #si i est plus grand que le maximum qu'on a en mémoire, c'est lui qui devient le nouveau maximum!\n",
    "    return max\n",
    "\n",
    "############################################\n",
    "# Partie pour tester la fonction recherche\n",
    "############################################\n",
    "liste_test=[8,9,10,110,12,0,20]\n",
    "print(maximum(liste_test)) #doit renvoyer 110\n",
    "liste_test.append(200)\n",
    "print(liste_test)\n",
    "print(maximum(liste_test)) #doit renvoyer 200"
   ]
  },
  {
   "cell_type": "markdown",
   "id": "f29dad2b",
   "metadata": {},
   "source": [
    "# 2-Listes en compréhension\n",
    "\n",
    "Les listes en compréhension fournissent un moyen de construire des listes de manière très concise. Une application classique est la construction de nouvelles listes où chaque élément est le résultat d'une opération appliquée à chaque élément d'une autre séquence ; ou de créer une sous-séquence des éléments satisfaisant une condition spécifique. \n",
    "\n",
    "Par exemple, supposons que l'on veuille créer une liste de carrés ($0^2$, $1^2$, ... jusqu'à $10^2$).\n",
    "\n",
    "On pourrait faire ce code :"
   ]
  },
  {
   "cell_type": "code",
   "execution_count": 5,
   "id": "3f39a351",
   "metadata": {},
   "outputs": [
    {
     "name": "stdout",
     "output_type": "stream",
     "text": [
      "[0, 1, 4, 9, 16, 25, 36, 49, 64, 81, 100]\n"
     ]
    }
   ],
   "source": [
    "squares = []             #on crée une liste vide\n",
    "for x in range(11):      #pour x allant de 0 à 10\n",
    "    squares.append(x**2) #on ajoute x au carré dans la liste\n",
    "print(squares)           #on affiche la liste"
   ]
  },
  {
   "cell_type": "markdown",
   "id": "91823ad5",
   "metadata": {},
   "source": [
    "On peut aussi utiliser une liste en compréhension : "
   ]
  },
  {
   "cell_type": "code",
   "execution_count": 1,
   "id": "4f59dd32",
   "metadata": {},
   "outputs": [
    {
     "name": "stdout",
     "output_type": "stream",
     "text": [
      "[1, 4, 9, 16, 25, 36, 49, 64, 81, 100]\n"
     ]
    }
   ],
   "source": [
    "squares = [x**2 for x in range(1,11)] #une liste en compréhension\n",
    "print(squares)"
   ]
  },
  {
   "cell_type": "markdown",
   "id": "65c3e52e",
   "metadata": {},
   "source": [
    "Ce qui est plus court et plus lisible. \n",
    "\n",
    "Une compréhension de liste s'écrit comme ceci :\n",
    "<code>[expression(x) for x in t if condition]</code>\n",
    "Pour chaque valeur de x dans la liste t, on calcule expression(x) seulement si la condition est vérifiée et on l'ajoute dans la liste qu'on construit. Voici plusieurs exemples :"
   ]
  },
  {
   "cell_type": "code",
   "execution_count": 2,
   "id": "edff7df6",
   "metadata": {},
   "outputs": [
    {
     "name": "stdout",
     "output_type": "stream",
     "text": [
      "[2, 8, 6, 14]\n",
      "[2, 6]\n",
      "[(2.5, 'a1'), (2.5, 'a3'), (2.5, 'a7')]\n",
      "[('as', 'pique'), ('as', 'coeur'), ('as', 'carreau'), ('as', 'trefle'), (2, 'pique'), (2, 'coeur'), (2, 'carreau'), (2, 'trefle'), (3, 'pique'), (3, 'coeur'), (3, 'carreau'), (3, 'trefle'), (4, 'pique'), (4, 'coeur'), (4, 'carreau'), (4, 'trefle'), (5, 'pique'), (5, 'coeur'), (5, 'carreau'), (5, 'trefle'), (6, 'pique'), (6, 'coeur'), (6, 'carreau'), (6, 'trefle'), (7, 'pique'), (7, 'coeur'), (7, 'carreau'), (7, 'trefle'), (8, 'pique'), (8, 'coeur'), (8, 'carreau'), (8, 'trefle'), (9, 'pique'), (9, 'coeur'), (9, 'carreau'), (9, 'trefle'), (10, 'pique'), (10, 'coeur'), (10, 'carreau'), (10, 'trefle'), ('valet', 'pique'), ('valet', 'coeur'), ('valet', 'carreau'), ('valet', 'trefle'), ('dame', 'pique'), ('dame', 'coeur'), ('dame', 'carreau'), ('dame', 'trefle'), ('roi', 'pique'), ('roi', 'coeur'), ('roi', 'carreau'), ('roi', 'trefle')]\n"
     ]
    }
   ],
   "source": [
    "liste1=[1,4,3,7] #notre liste de base sur laquelle on va construire d'autres listes\n",
    "\n",
    "liste2=[2*x for x in liste1] #on génère liste2 en parcourant liste1 et en doublant ses valeurs, on obtient [2,8,6,14]\n",
    "print(liste2)\n",
    "\n",
    "liste3=[2*x for x in liste1 if x<4] #on génère liste3 en parcourant liste1 et en doublant ses valeurs seulement si elles sont inférieures à 4, on obtient [2,6]\n",
    "print(liste3)\n",
    "\n",
    "liste4=[(2.5,\"a\"+str(x)) for x in liste1 if x%2==1]\n",
    "print(liste4)\n",
    "\n",
    "listeValeurs=[\"as\",2,3,4,5,6,7,8,9,10,\"valet\",\"dame\",\"roi\"]\n",
    "listeCouleurs=[\"pique\",\"coeur\",\"carreau\",\"trefle\"]\n",
    "listeCartes=[(val,coul) for val in listeValeurs for coul in listeCouleurs]\n",
    "print(listeCartes)"
   ]
  },
  {
   "cell_type": "markdown",
   "id": "aa091ed5",
   "metadata": {},
   "source": [
    "## Exercice 4\n",
    "à l’aide des listes en compréhension, construire la liste des multiples de 3 de 0 à 100. \n",
    "\n",
    "## Exercice 5\n",
    "idem que l’exercice 4 mais sans listes en compréhension et avec une boucle. \n",
    "\n",
    "## Exercice 6\n",
    "à l’aide des listes en compréhension, construire la liste des multiples de 3 de 0 à 100 excluant les multiples de 5. \n",
    "\n",
    "## Exercice 7\n",
    "idem que l’exercice 6 mais sans listes en compréhension et avec une boucle.  \n",
    "\n",
    "## Exercice 8\n",
    "Écrire un programme qui demande en boucle à l’utilisateur de saisir des nombres. Quand l’utilisateur saisit le nombre –1, la boucle s’arrête. Le programme renvoie alors le minimum, le maximum et la valeur moyenne des éléments de cette liste. \n",
    "\n",
    "## Exercice 9\n",
    "Écrire un programme qui demande en boucle à l’utilisateur de saisir des prénoms et des noms. Quand l’utilisateur saisit le prénom NSI, la boucle s’arrête. Le programme renvoie alors la liste des courriels @stanislas.qc.ca de tous les utilisateurs saisis, dans l’ordre alphabétique. Pour terminer, cette liste de courriels est inscrite dans un fichier adresse.txt "
   ]
  },
  {
   "cell_type": "code",
   "execution_count": null,
   "id": "73a4b241",
   "metadata": {},
   "outputs": [],
   "source": []
  }
 ],
 "metadata": {
  "kernelspec": {
   "display_name": "Python 3",
   "language": "python",
   "name": "python3"
  },
  "language_info": {
   "codemirror_mode": {
    "name": "ipython",
    "version": 3
   },
   "file_extension": ".py",
   "mimetype": "text/x-python",
   "name": "python",
   "nbconvert_exporter": "python",
   "pygments_lexer": "ipython3",
   "version": "3.7.10"
  }
 },
 "nbformat": 4,
 "nbformat_minor": 5
}
