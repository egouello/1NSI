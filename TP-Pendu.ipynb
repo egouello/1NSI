{
 "cells": [
  {
   "cell_type": "markdown",
   "id": "c43eff06",
   "metadata": {},
   "source": [
    "# Le jeu du pendu\n",
    "Le jeu du pendu consiste à faire deviner un mot lettre par lettre, avec un nombre limité d'erreurs.\n",
    "\n",
    "Un tour de jeu se déroule de la façon suivante :\n",
    "\n",
    "- le joueur propose une lettre ;\n",
    "- si cette lettre a déjà été jouée, le programme l'indique et lui permet d'en essayer une autre ;\n",
    "- si cette lettre est dans le mot recherché, le programme l'indique au joueur et affiche le mot à trous. Par exemple, si le mot recherché est « ananas » et le joueur a proposé « n » au premier tour, le programme doit afficher « -n-n-- » ;\n",
    "- sinon, le programme doit indiquer au joueur que cette lettre n'est pas dans le mot recherché, afficher les lettres déjà essayées, et indiquer le nombre de coups restants.\n",
    "\n",
    "## 1. Proposer une lettre\n",
    "Écrire la fonction <code>demander_lettre</code> qui demande une lettre à l'utilisateur. Si l'entrée de l'utilisateur n'est pas un unique caractère, la fonction lui rappelle qu'elle n'a besoin que d'une lettre et demande à nouveau, jusqu'à ce qu'un unique caractère soit entré. Elle retourne ensuite cette lettre.\n",
    "\n",
    "Bonus : à l'aide du mot-clé <code>in</code>, contraindre le joueur à n'entrer que des lettres.\n",
    "\n",
    "## 2. Mot à trou\n",
    "Écrire une fonction <code>remplace(reference, actuel, lettre)</code> qui prend en paramètre trois chaînes de caractères : un mot de référence, un mot « actuel » composé d'autant de caractères que reference, et une lettre. Si reference contient lettre au moins une fois, la fonction doit modifier actuel en remplaçant ses caractères par lettre aux emplacements correspondants, et retourner cette version modifiée ; par exemple, <code>remplace(\"boom\", \"b---\", \"o\")</code> retourne <code>\"boo-\"</code>. Sinon, la fonction retourne <code>None</code>.\n",
    "\n",
    "<code>None</code> est une valeur spéciale qui est différente de toutes les valeurs de tous les autres types. Elle représente une valeur absente ou inconnue. On peut comparer une valeur à <code>None</code> avec les opérateurs <code>is</code> et <code>is not</code>.\n",
    "\n",
    "**Note**\n",
    "Attention, on ne peut pas directement modifier un caractère dans une chaîne. On peut cependant construire la nouvelle version de <code>actuel</code> à partir d'une chaîne vide en parcourant et ajoutant les caractères un à un. Une autre solution consiste à transformer une chaîne ch en tableau à l'aide de <code>t = list(ch)</code>, modifier des éléments spécifiques du tableau t, et obtenir à nouveau une chaîne à l'aide de <code>\"\".join(t)</code>.\n",
    "\n",
    "## 3. Structure du programme\n",
    "Écrire la fonction principale de notre programme, <code>pendu(mot, nb_erreurs)</code> qui fait deviner à l'utilisateur le <code>mot</code> en faisant moins de <code>nb_erreurs</code> erreurs, en utilisant <code>demander_lettre</code> et <code>remplace</code>.\n",
    "\n",
    "On pensera à créer et maintenir :\n",
    "\n",
    "une liste <code>lettres_jouees</code> qui contient les lettres déjà proposées.\n",
    "une variable <code>mot_actuel</code> (chaîne) qui contient le mot en train d'être deviné. Elle doit être initialisée avec autant de fois le caractère « - » qu'il y a de lettres dans mot, et mise à jour à chaque fois que le joueur devine une lettre.\n",
    "Ne pas oublier que le joueur a droit à <code>nb_erreurs</code> erreurs avant de perdre. La partie continue donc tant que le joueur n'a pas fait autant d'erreurs, ou que mot n'a pas été entièrement deviné.\n",
    "\n",
    "## 4. Bonus 1 : Dessiner le pendu\n",
    "À l'aide de la bibliothèque turtle, dessiner progressivement le pendu à chaque erreur.\n",
    "\n",
    "<img src=\"pendu.png\">\n",
    "\n",
    "## 5. Bonus 2 : Piocher dans un fichier de nom\n",
    "À l'aide du fichier [listemots.txt](listemots.txt) contenant plus de 13 000 mots français sans accents et sans caractères spéciaux, améliorer le jeu pour qu'il choisisse au hasard un mot de ce fichier pour jouer avec.\n",
    "\n"
   ]
  },
  {
   "cell_type": "code",
   "execution_count": null,
   "id": "d9a81552",
   "metadata": {},
   "outputs": [],
   "source": []
  }
 ],
 "metadata": {
  "kernelspec": {
   "display_name": "Python 3",
   "language": "python",
   "name": "python3"
  },
  "language_info": {
   "codemirror_mode": {
    "name": "ipython",
    "version": 3
   },
   "file_extension": ".py",
   "mimetype": "text/x-python",
   "name": "python",
   "nbconvert_exporter": "python",
   "pygments_lexer": "ipython3",
   "version": "3.7.10"
  }
 },
 "nbformat": 4,
 "nbformat_minor": 5
}
