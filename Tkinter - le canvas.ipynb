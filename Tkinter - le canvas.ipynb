{
 "cells": [
  {
   "cell_type": "markdown",
   "metadata": {},
   "source": [
    "# Tkinter - Utilisation du canvas"
   ]
  },
  {
   "cell_type": "markdown",
   "metadata": {},
   "source": [
    "  Dans une fenêtre Tkinter, on peut insérer un objet <code>Canvas</code> qui permet de dessiner des fomes géométriques. En anglais, canvas signifie toile : c'est donc l'équivalent d'une toile de peintre sur laquelle on va dessiner."
   ]
  },
  {
   "cell_type": "markdown",
   "metadata": {},
   "source": [
    "## 1- Premiers dessins  "
   ]
  },
  {
   "cell_type": "markdown",
   "metadata": {},
   "source": [
    "La fenêtre est munies de coordonnées définies en pixels.   \n",
    "L'origine du repère (coordonnées (0,0)) est située dans le coin supérieur gauche de la fenêtre. la première coordonnée (abscisse) augmente quand on va vers la droite et la deuxième coordonnée (ordonnée) augmente quand on va vers le bas.\n",
    "\n",
    "<img src=\"coords.png\">\n",
    "\n",
    "La position des objets qu'on dessine est définie par 4 valeurs qui définissent les coordonnées des extrémités d'une diagonale de cet objet (abscisse du coin supérieur gauche, ordonnée du coin supérieur gauche, abscisse du coin inférieur droit, ordonnée du coin inférieur droit)."
   ]
  },
  {
   "cell_type": "code",
   "execution_count": 9,
   "metadata": {},
   "outputs": [],
   "source": [
    "from tkinter import *\n",
    "fe=Tk()\n",
    "fe.title('fenêtre avec canevas')\n",
    "fe.geometry('900x600+400+50')\n",
    "fe.configure(bg='white')\n",
    "\n",
    "texte=Label(fe,text='Voici des figures',font='calibri 18 bold',fg='green')\n",
    "texte.grid(row =6, column =3)\n",
    "\n",
    "quitter = Button(fe, text = 'Quitter',command = fe.destroy, font=(\"Arial\",20))\n",
    "quitter.grid(row=1,column=1)\n",
    "\n",
    "#Création et placement du canevas\n",
    "canevas=Canvas(fe,width=200,height=200,bg='grey')\n",
    "canevas.grid(row=9,column=3)\n",
    "\n",
    "#Création de segments\n",
    "canevas.create_line(0,0,50,150,fill='red',width=2) #(0,0) est une extrémité et (50,150) l'autre extrémité\n",
    "canevas.create_line(100,100,200,100,fill='green', width=4)\n",
    "\n",
    "#Création d'un cercle ou d'une forme ovale\n",
    "canevas.create_oval(70,30,200,110,outline='green',width=4) #la forme circulaire est dans un rectangle dont la diagonale va de (70,30) à (200,110)\n",
    "\n",
    "#Création d'un rectangle\n",
    "canevas.create_rectangle(70,130,100,170,outline='yellow',width=12)\n",
    "\n",
    "fe.mainloop()"
   ]
  },
  {
   "cell_type": "markdown",
   "metadata": {},
   "source": [
    "### À faire vous-même :\n",
    "Modifiez les paramêtres dans le programme ci-dessus pour comprendre comment ils agissent sur le dessin."
   ]
  },
  {
   "cell_type": "markdown",
   "metadata": {},
   "source": [
    "## 2 - Mouvement des objets "
   ]
  },
  {
   "cell_type": "markdown",
   "metadata": {},
   "source": [
    "Pour pouvoir modifier des objets affichés, ils faut les avoir enregistré dans une variable."
   ]
  },
  {
   "cell_type": "markdown",
   "metadata": {},
   "source": [
    "Dans l'exemple suivant, on crée deux cercles, et à tour de rôle on cache l'un et on affiche l'autre."
   ]
  },
  {
   "cell_type": "code",
   "execution_count": 9,
   "metadata": {},
   "outputs": [],
   "source": [
    "from tkinter import *\n",
    "fe=Tk()\n",
    "fe.title('simulation de mouvement avec deux cercles')\n",
    "fe.geometry('600x300+400+50')\n",
    "\n",
    "def alterner():\n",
    "    statutcercle1=cs.itemcget(cercle, \"state\")\n",
    "    if statutcercle1==HIDDEN:\n",
    "        cs.itemconfigure(cercle,state=NORMAL)\n",
    "        cs.itemconfigure(cercle2,state=HIDDEN)\n",
    "    else:    \n",
    "        cs.itemconfigure(cercle2,state=NORMAL)\n",
    "        cs.itemconfigure(cercle,state=HIDDEN)\n",
    "    \n",
    "b_quitter = Button(fe, text = 'Quitter',bg=\"orange\", command = fe.destroy, fg=\"yellow\",font=(\"Arial\",20))\n",
    "b_quitter.grid(row=1,column=1)\n",
    "\n",
    "b_monter = Button(fe, text = 'Alterner cercles',bg=\"yellow\", command = alterner, fg=\"orange\",font=(\"Arial\",20))\n",
    "b_monter.grid(row=1,column=2)\n",
    "\n",
    "#création du canevas\n",
    "cs=Canvas(fe,width=200,height=200,bg='gray')\n",
    "cs.grid(row=2,column=1,columnspan = 2)\n",
    "\n",
    "#dessins sur le canevas\n",
    "cs.create_line(40,180,80,20,fill='red',width=2)\n",
    "cercle=cs.create_oval(80,140,160,60,outline='yellow',width=4)\n",
    "cercle2=cs.create_oval(80,100,160,20,outline='yellow',width=4)\n",
    "#on cache le deuxième cercle, on l'affichera en cachant le premier pour donner l'effet de mouvement\n",
    "cs.itemconfigure(cercle2,state=HIDDEN)\n",
    "\n",
    "fe.mainloop()"
   ]
  },
  {
   "cell_type": "markdown",
   "metadata": {},
   "source": [
    "On peut aussi utliser la méthode `move` sur un objet sur le canevas. Ainsi la commande <code>cs.move(objet_du_canevas, x, y)</code> déplace objet_du_canevas de x en abscisse et de y en ordonnée"
   ]
  },
  {
   "cell_type": "code",
   "execution_count": 35,
   "metadata": {},
   "outputs": [],
   "source": [
    "from tkinter import *\n",
    "fe=Tk()\n",
    "fe.title('mouvement avec move')\n",
    "fe.geometry('600x600+400+50')\n",
    "\n",
    "def haut():\n",
    "    cs.move(cercle,0,-10)\n",
    "def bas():\n",
    "    cs.move(cercle,0,10)\n",
    "def gauche():\n",
    "    cs.move(cercle,-10,0)\n",
    "def droite():\n",
    "    cs.move(cercle,10,0)\n",
    "    \n",
    "b_quitter = Button(fe, text = 'Quitter',bg=\"orange\", command = fe.destroy, fg=\"yellow\",font=(\"Arial\",20))\n",
    "b_quitter.grid(row=1,column=1)\n",
    "\n",
    "b_haut = Button(fe, text = 'haut',bg=\"yellow\", command = haut, fg=\"orange\",font=(\"Arial\",20))\n",
    "b_haut.grid(row=1,column=3)\n",
    "\n",
    "b_bas = Button(fe, text = 'bas',bg=\"yellow\", command = bas, fg=\"orange\",font=(\"Arial\",20))\n",
    "b_bas.grid(row=3,column=3)\n",
    "\n",
    "b_gauche = Button(fe, text = 'gauche',bg=\"yellow\", command = gauche, fg=\"orange\",font=(\"Arial\",20))\n",
    "b_gauche.grid(row=2,column=2)\n",
    "\n",
    "b_droite = Button(fe, text = 'droite',bg=\"yellow\", command = droite, fg=\"orange\",font=(\"Arial\",20))\n",
    "b_droite.grid(row=2,column=4)\n",
    "\n",
    "cs=Canvas(fe,width=600,height=400,bg='white')\n",
    "cs.grid(row=4,column=1,columnspan = 4)\n",
    "cercle=cs.create_oval(290,190,310,210,outline='red',width=4)\n",
    "\n",
    "fe.mainloop()"
   ]
  },
  {
   "cell_type": "markdown",
   "metadata": {},
   "source": [
    "## 3 - Modification des attributs des objets du canevas\n",
    "Dans les programmes précédents, on a utilisé les méthodes itemcget et itemconfigure pour respectivement lire ou modifier des attributs d'objets dessinés sur le canevas.\n",
    "\n",
    "Par exemple, si dans le canevas, on crée un cercle avec <code>cercle=cs.create_oval(80,140,160,60,outline='yellow',width=4)</code>, on pourra par exemple modifier l'épaisseur du tracé avec l'instruction <code>cs.itemconfigure(cercle,width=1)</code> ou récupérer la couleur du cercle par <code>couleur=cs.itemcget(cercle, \"outline\")</code>\n",
    "\n",
    "Voici ci-dessous des exemples de modification d'objets dans le canevas:"
   ]
  },
  {
   "cell_type": "code",
   "execution_count": 42,
   "metadata": {},
   "outputs": [],
   "source": [
    "from tkinter import *\n",
    "fe=Tk()\n",
    "fe.title('mouvement avec move')\n",
    "fe.geometry('700x600+400+50')\n",
    "\n",
    "def changer():\n",
    "    cs.itemconfig(cercle,width=2)\n",
    "    couleur=cs.itemcget(cercle, \"outline\")\n",
    "    if couleur == \"red\":\n",
    "        cs.itemconfig(cercle,outline='yellow')\n",
    "        cs.itemconfig(cercle,fill='black')\n",
    "    elif couleur == \"yellow\":\n",
    "        cs.itemconfig(cercle,outline='blue')\n",
    "        cs.itemconfig(cercle,fill='pink')\n",
    "    else:\n",
    "        cs.itemconfig(cercle,outline=\"red\")\n",
    "        cs.itemconfig(cercle,fill='white')\n",
    "        cs.itemconfig(cercle,width=7)\n",
    "    \n",
    "def remettre_et_changer_tour():\n",
    "    mot1.grid(row =6, column =4)\n",
    "    cs.itemconfig(cercle,outline='blue')\n",
    "    cs.itemconfig(cercle,width=8)\n",
    "    cs.move(cercle,dx,-dy)\n",
    "def haut():\n",
    "    cs.move(cercle,0,-10)\n",
    "def bas():\n",
    "    cs.move(cercle,0,10)\n",
    "def gauche():\n",
    "    cs.move(cercle,-10,0)\n",
    "def droite():\n",
    "    cs.move(cercle,10,0)\n",
    "    \n",
    "b_quitter = Button(fe, text = 'Quitter',bg=\"orange\", command = fe.destroy, fg=\"yellow\",font=(\"Arial\",20))\n",
    "b_quitter.grid(row=1,column=1)\n",
    "\n",
    "b_haut = Button(fe, text = 'haut',bg=\"yellow\", command = haut, fg=\"orange\",font=(\"Arial\",20))\n",
    "b_haut.grid(row=1,column=3)\n",
    "\n",
    "b_bas = Button(fe, text = 'bas',bg=\"yellow\", command = bas, fg=\"orange\",font=(\"Arial\",20))\n",
    "b_bas.grid(row=3,column=3)\n",
    "\n",
    "b_gauche = Button(fe, text = 'gauche',bg=\"yellow\", command = gauche, fg=\"orange\",font=(\"Arial\",20))\n",
    "b_gauche.grid(row=2,column=2)\n",
    "\n",
    "b_droite = Button(fe, text = 'droite',bg=\"yellow\", command = droite, fg=\"orange\",font=(\"Arial\",20))\n",
    "b_droite.grid(row=2,column=4)\n",
    "\n",
    "b_changer = Button(fe, text = 'changer apparence',bg=\"yellow\", command = changer, fg=\"orange\",font=(\"Arial\",20))\n",
    "b_changer.grid(row=1,column=5)\n",
    "\n",
    "cs=Canvas(fe,width=600,height=400,bg='white')\n",
    "cs.grid(row=4,column=1,columnspan = 5)\n",
    "cercle=cs.create_oval(280,180,320,220,outline='red',width=4)\n",
    "\n",
    "fe.mainloop()"
   ]
  },
  {
   "cell_type": "markdown",
   "metadata": {},
   "source": [
    "## 4 - Animation\n",
    "Maintenant qu'on sait déplacer et modifier l'apparence des objets, on a tous les éléments pour créer une petite animation :"
   ]
  },
  {
   "cell_type": "code",
   "execution_count": null,
   "metadata": {},
   "outputs": [],
   "source": [
    "from tkinter import *\n",
    "import time\n",
    "fe=Tk()\n",
    "fe.title('mouvement avec move')\n",
    "fe.geometry('700x600+400+50')\n",
    "\n",
    "def haut():\n",
    "    cs.move(cercle,0,-1)\n",
    "def bas():\n",
    "    cs.move(cercle,0,1)\n",
    "#def gauche():\n",
    "#    cs.move(cercle,-1,0)\n",
    "#def droite():\n",
    "#    cs.move(cercle,1,0)\n",
    "    \n",
    "b_quitter = Button(fe, text = 'Quitter',bg=\"orange\", command = fe.destroy, fg=\"yellow\",font=(\"Arial\",20))\n",
    "b_quitter.grid(row=1,column=1)\n",
    "\n",
    "cs=Canvas(fe,width=600,height=400,bg='white')\n",
    "cs.grid(row=4,column=1,columnspan = 5)\n",
    "cercle=cs.create_oval(280,180,320,220,fill='red')\n",
    "\n",
    "direction=\"bas\"\n",
    "while True:\n",
    "    cercle_pos = cs.coords(cercle) #on récupère un tuple des 4 valeurs de coordonnées du cercle : (280,180,320,220) au départ\n",
    "    #print(cercle_pos)\n",
    "    if direction==\"bas\" and cercle_pos[3]>=400:\n",
    "        #l'ordonnée du bas du cercle dépasse la hauteur du canevas, on change de direction\n",
    "        direction = \"haut\"\n",
    "    elif direction==\"haut\" and cercle_pos[1]<=0:\n",
    "        #l'ordonnée du haut du cercle dépasse le haut du canevas, on change de direction\n",
    "        direction = \"bas\"\n",
    "    if direction==\"bas\":\n",
    "        bas()\n",
    "    elif direction ==\"haut\":\n",
    "        haut()\n",
    "    time.sleep(0.01)\n",
    "    cs.update()\n",
    "    \n",
    "fe.mainloop()"
   ]
  },
  {
   "cell_type": "markdown",
   "metadata": {},
   "source": [
    "## 5 - Exercices\n",
    "\n",
    "Exercice 1 - Modifier l'animation précédente, pour que la balle se déplace de gauche à droite en rebondissant.\n",
    "\n",
    "Exercice 2 - Modifier l'animation pour que la balle parte en diagonale et rebondisse sur les 4 bords de l'écran\n",
    "\n",
    "Exercice 3 - Simuler une animation de neige dans la nuit : des boules blanches tombent du ciel dans la nuit noire, il y a aussi la lune dans un coin et le sol en bas de l'écran.\n",
    "\n",
    "Exercice 4 - Ajouter un bouton jour/nuit à la scène précédente qui fait basculer la vue de nuit à une vue de jour : le ciel devient bleu, la lune devient un soleil."
   ]
  },
  {
   "cell_type": "code",
   "execution_count": null,
   "metadata": {},
   "outputs": [],
   "source": []
  }
 ],
 "metadata": {
  "kernelspec": {
   "display_name": "Python 3",
   "language": "python",
   "name": "python3"
  },
  "language_info": {
   "codemirror_mode": {
    "name": "ipython",
    "version": 3
   },
   "file_extension": ".py",
   "mimetype": "text/x-python",
   "name": "python",
   "nbconvert_exporter": "python",
   "pygments_lexer": "ipython3",
   "version": "3.7.10"
  }
 },
 "nbformat": 4,
 "nbformat_minor": 2
}
