{
 "cells": [
  {
   "cell_type": "markdown",
   "metadata": {},
   "source": [
    "# TKINTER - PRÉSENTATION ET PREMIER PROGRAMME"
   ]
  },
  {
   "cell_type": "markdown",
   "metadata": {},
   "source": [
    "Tkinter est une librairie Python qui permet de réaliser des interfaces graphiques.   \n",
    "On crée une fenêtre qui s'ouvre, un peu comme avec Turtle.   \n",
    "On se repère dans cette fenêtre au sein de cases repérées par leurs numéros de lignes et de colonnes.  (ces numéros commencent à `0`)  "
   ]
  },
  {
   "cell_type": "markdown",
   "metadata": {},
   "source": [
    "## 1- Ouverture de la fenêtre Tkinter  "
   ]
  },
  {
   "cell_type": "markdown",
   "metadata": {},
   "source": [
    " Les premières commandes sont toujours les mêmes.  \n",
    "   On crée une fenêtre avec `Tk()` à qui on donne un nom, ici `fe`et qui sera invoquée pour chaque objet que nous créerons dans cette fenêtre.  \n",
    "   On règle ensuite les paramètres de cette fenêtre, ici, un nom, puis sa taille et sa position sur l'écran puis la couleur du fond."
   ]
  },
  {
   "cell_type": "code",
   "execution_count": 22,
   "metadata": {},
   "outputs": [],
   "source": [
    "from tkinter import *\n",
    "fe=Tk()\n",
    "fe.title('première fenêtre')\n",
    "fe.geometry('900x500+200+50') #900=largeur de la fenêtre, 500=hauteur, 200=positionx de la fenêtre sur l'écran, 50:positiony de la fenêtre sur l'écran\n",
    "fe.configure(bg='blue')\n",
    "\n",
    "#boucle principale (le programme ne s'arrête pas tant qu'on a pas fermé la fenêtre)\n",
    "fe.mainloop()"
   ]
  },
  {
   "cell_type": "markdown",
   "metadata": {},
   "source": [
    "## 2- Ajout d'éléments dans la fenêtre   \n",
    "\n",
    "On ajoute ensuite des éléments qui s'appellent des <span class=def>widgets</span>.    "
   ]
  },
  {
   "cell_type": "markdown",
   "metadata": {},
   "source": [
    "### 2a- Label pour écrire du texte "
   ]
  },
  {
   "cell_type": "markdown",
   "metadata": {},
   "source": [
    "Pour écrire un texte, on crée un `Label` qui a un certain nombre de paramètres, puis après l'avoir créé, on le place sur la grille qu'est notre fenêtre Tkinter.\n"
   ]
  },
  {
   "cell_type": "code",
   "execution_count": 3,
   "metadata": {},
   "outputs": [],
   "source": [
    "from tkinter import *\n",
    "## création de la fenêtre\n",
    "fe=Tk()\n",
    "fe.title('première fenêtre')\n",
    "fe.geometry('900x500+200+50')\n",
    "fe.configure(bg='blue')\n",
    "\n",
    "##Création et mise en place des widgets\n",
    "#Création d'un Label nommée 'texte' dans fe avec un font calibri écrit en vert.\n",
    "texte=Label(fe,text='Hello World',font='calibri 18 bold',fg='green')  \n",
    "# Placement du Label 'texte' à la ligne 7 et la colonne 12 avec la méthode grid\n",
    "texte.grid(row =7, column =12)\n",
    "\n",
    "## boucle principale\n",
    "fe.mainloop()"
   ]
  },
  {
   "cell_type": "markdown",
   "metadata": {},
   "source": [
    "On remarque que le fond du `Label` est gris par défaut, et que celui-ci est placé en haut à gauche.   \n",
    "En effet, les cases vides n'occuppent aucune place.   \n",
    "La ligne 7 sera tout en haut tant qu'il n'y aura rien dans les lignes au-dessus.\n",
    "Voici des exemples, profitons-en pour ajuster certaines couleurs de fond."
   ]
  },
  {
   "cell_type": "code",
   "execution_count": 6,
   "metadata": {},
   "outputs": [],
   "source": [
    "from tkinter import *\n",
    "## création de la fenêtre\n",
    "fe=Tk()\n",
    "fe.title('première fenêtre')\n",
    "fe.geometry('900x500+200+50')\n",
    "fe.configure(bg='blue')\n",
    "\n",
    "##Création et mise ne place des widgets\n",
    "\n",
    "#Création d'un texte dans fe  écrit en bleu.\n",
    "texte1=Label(fe,text='Quelque chose au dessus',font='Times 18 bold italic',fg='blue')  \n",
    "# Placement du Label 'texte1' au dessus\n",
    "texte1.grid(row =3, column =2)\n",
    "\n",
    "\n",
    "#Création d'un texte dans fe avec un font calibri écrit en vert.\n",
    "texte2=Label(fe,text='Hello world',font='calibri 18 bold ',fg='green')  \n",
    "# Placement du Label à la ligne 7 et la colonne 12\n",
    "texte2.grid(row =7, column =12)\n",
    "\n",
    "#Création d'un texte dans fe avec un font calibri écrit en jaune sur fond rouge.\n",
    "texte3=Label(fe,text='Quelque chose en dessous',font='calibri 18 bold',fg='yellow',bg='red')  \n",
    "# Placement du Label à la ligne 7 et la colonne 12\n",
    "texte3.grid(row =8, column =12)\n",
    "\n",
    "\n",
    "## \n",
    "fe.mainloop()"
   ]
  },
  {
   "cell_type": "markdown",
   "metadata": {},
   "source": [
    "      \n",
    "### 2b-Button pour exécuter des actions \n"
   ]
  },
  {
   "cell_type": "markdown",
   "metadata": {},
   "source": [
    "Pour créer une interaction, on crée un `Button` qui a un certain nombre de paramètres, puis après l'avoir créé, on le place sur la grille de notre fenêtre Tkinter.   \n",
    "Nous devons alors créer une fonction qui sera exécutée si on clique sur le bouton.   \n",
    "*Attention, cette fonction ne doit pas comporter de paramètre.*\n",
    "On notera  le bouton `Quitter` ajouté à cette occasion et bienvenu dans tous les programmes Tkinter et qui exécute une fonction déjà programmé dans le module `tkinter`. \n"
   ]
  },
  {
   "cell_type": "code",
   "execution_count": 21,
   "metadata": {},
   "outputs": [],
   "source": [
    "from tkinter import *\n",
    "## création de la fenêtre\n",
    "fe=Tk()\n",
    "fe.title('première fenêtre')\n",
    "fe.geometry('900x500+200+50')\n",
    "\n",
    "#une variable qui stocke la valeur du background\n",
    "background=\"blue\"\n",
    "fe.configure(bg=background)\n",
    "\n",
    "## Création de la fonction du bouton\n",
    "def change():\n",
    "    global background\n",
    "    if background ==\"blue\":\n",
    "        background=\"green\"\n",
    "    elif background==\"green\":\n",
    "        background=\"pink\"\n",
    "    elif background==\"pink\":\n",
    "        background=\"blue\"\n",
    "    fe.configure(bg=background)\n",
    "\n",
    "##Création et mise ne place des widgets\n",
    "\n",
    "#Création d'un texte dans fe écrit en bleu.\n",
    "texte1=Label(fe,text='Voici un bouton',font='Times 18 bold italic',fg='blue')  \n",
    "# Placement du Label 'texte1' au dessus\n",
    "texte1.grid(row =3, column =2)\n",
    "\n",
    "#Création d'un bouton dans fe avec un font calibri écrit en jaune sur fond rouge.\n",
    "action=Button(fe,text=\"Changer la couleur\",width=20,fg='black',bg=\"orange\",command=change) #c'est command=change qui appelle la fonction correspondante\n",
    "action.grid(row=3,column=4)\n",
    "\n",
    "#Création d'un bouton quitter.\n",
    "Quitter=Button(fe,text=\"Quitter\",width=10,fg=\"red\",command=fe.destroy)\n",
    "Quitter.grid(row=0,column=0)\n",
    "\n",
    "## \n",
    "fe.mainloop()"
   ]
  },
  {
   "cell_type": "markdown",
   "metadata": {},
   "source": [
    "### 2c- Input pour demander une valeur à l'utilisateur"
   ]
  },
  {
   "cell_type": "markdown",
   "metadata": {},
   "source": [
    "Pour créer un champs de saisie (équivalent de input en mode console), on crée un `Entry` nommé couleur (voir ligne 28-30) qui a un certain nombre de paramètres, puis après l'avoir créé, on le place sur la grille de notre fenêtre Tkinter.   \n",
    "Dans le reste du code, on pourra accéder au contenu de ce widget avec <code>couleur.get()</code> qui renvoie la chaine de caractère qui se trouve dedans."
   ]
  },
  {
   "cell_type": "code",
   "execution_count": 17,
   "metadata": {},
   "outputs": [],
   "source": [
    "from tkinter import *\n",
    "## création de la fenêtre\n",
    "fe=Tk()\n",
    "fe.title('première fenêtre')\n",
    "fe.geometry('1200x500+50+50')\n",
    "fe.configure(bg='blue')\n",
    "\n",
    "## Création de la fonction du bouton\n",
    "def change():\n",
    "    coul=couleur.get() #on lit la couleur saisie par l'utilisateur\n",
    "    try:\n",
    "        #on change la couleur du fond avec la valeur passée en paramètre\n",
    "        fe.configure(bg=coul)\n",
    "        #on enleve le message d'erreur de la grille\n",
    "        texte2.grid_remove()\n",
    "    except:\n",
    "        #la couleur n'est pas trouvée, on affiche un message d'erreur\n",
    "        texte2.grid(row =5, column =5)\n",
    "\n",
    "##Création et mise ne place des widgets\n",
    "\n",
    "#Création d'un texte dans fe  écrit en bleu.\n",
    "texte1=Label(fe,text='Choisir une couleur : ',font='Times 18 bold italic',fg='blue')  \n",
    "\n",
    "# Placement du Label 'texte1' au dessus\n",
    "texte1.grid(row =3, column =1)\n",
    "\n",
    "#Création d'une case de saisie\n",
    "couleur=Entry(fe,width=24,bg=\"light blue\") \n",
    "couleur.grid(row =3, column =2)\n",
    "\n",
    "#Création d'un bouton dans fe avec un font calibri écrit en jaune sur fond rouge.\n",
    "action=Button(fe,text=\"Changer la couleur\",width=20,fg='black',bg=\"orange\",command=change)\n",
    "action.grid(row=3,column=4)\n",
    "\n",
    "#Création du message d'erreur\n",
    "texte2=Label(fe,text='Couleur non valide',bg='red',font=(\"Arial bold\",40),fg='yellow', )  \n",
    "\n",
    "Quitter=Button(fe,text=\"Quitter\",width=10,fg=\"red\",command=fe.destroy)\n",
    "Quitter.grid(row=0,column=0)\n",
    "\n",
    "# Faire en sorte que le curseur soit déjà dans la case prêt à écrire.\n",
    "couleur.focus()\n",
    "\n",
    "#boucle principale\n",
    "fe.mainloop()"
   ]
  },
  {
   "cell_type": "markdown",
   "metadata": {},
   "source": [
    "On remarque que la grille est composée de cases dont la taille dépend du son contenu. La hauteur d'une ligne sera celle de l'élément le plus grand de cette ligne  et la largeur d'une colonne sera celle de l'élément le plus large de celle-ci."
   ]
  },
  {
   "cell_type": "markdown",
   "metadata": {},
   "source": [
    "## 3-Exercice\n",
    "Créer une fenêtre Tkinter dont le titre est \"IMC\" et qui va servir de calculateur d'indice de masse corporelle.\n",
    "Pour cela, vous devez créer :\n",
    "- Un label \"Quelle est votre taille en cm?\" et un Entry qui permet de saisir sa taille\n",
    "- Un label \"Quelle est votre poids en kg?\" et un Entry qui permet de saisir son poids\n",
    "- Un label qui affiche l'IMC selon la formule que vous trouverez facilement sur internet (on peut changer le contenu d'un label avec l'instruction <code>nom_de_mon_label['text'] = \"texte modifié\"</code>.\n",
    "- Un bouton \"Quitter\"\n",
    "\n",
    "Essayez de faire quelque chose de plus joli que les exemples vus précédemment!"
   ]
  }
 ],
 "metadata": {
  "kernelspec": {
   "display_name": "Python 3",
   "language": "python",
   "name": "python3"
  },
  "language_info": {
   "codemirror_mode": {
    "name": "ipython",
    "version": 3
   },
   "file_extension": ".py",
   "mimetype": "text/x-python",
   "name": "python",
   "nbconvert_exporter": "python",
   "pygments_lexer": "ipython3",
   "version": "3.7.10"
  }
 },
 "nbformat": 4,
 "nbformat_minor": 2
}
