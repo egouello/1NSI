{
 "cells": [
  {
   "cell_type": "markdown",
   "id": "f4b02e21",
   "metadata": {},
   "source": [
    "# Types construits ou types structurés\n",
    "\n",
    "# 1- Types simples et types structurés\n",
    "Tous les langages de programmation de haut niveau permettent de composer les types de base (nombres, chaînes de caractères, booléens) afin de créer des types plus complexes permettant de représenter des collections de valeurs. On appelle ces types des types construits ou types structurés.\n",
    "\n",
    "Ces types permettent de construire une collection à partir de ses éléments, de l'affecter à une variable, de la passer en paramètre à une fonction, de la retourner comme valeur d'une fonction, d'extraire ses éléments ou de modifier son contenu.\n",
    "\n",
    "Ce chapitre introduit trois types structurés de Python : les tuples, les tableaux (aussi appelés listes en Python) et les dictionnaires. Il revient également sur les chaînes de caractères, introduites au chapitre 2 comme un type de base, mais qui sont en réalité un type construit.\n",
    "\n",
    "# 2- Les tuples\n",
    "Un tuple est constitué d'une collection ordonnée d'éléments. Il correspond à un p-uplet en mathématiques. Un tuple avec deux éléments est une paire, avec trois éléments un triplet, etc. Les tuples sont notés entre parenthèses en listant les éléments séparés par des virgules :\n",
    "\n",
    "- si x et y sont deux nombres, le tuple (x, y) peut représenter un point ;\n",
    "- le tuple (10, 'juillet', 2020) peut représenter une date ;\n",
    "- le tuple (7, 'pique') peut représenter une carte à jouer ;\n",
    "- si p et q sont des entiers, (p, q) peut représenter le nombre rationnel p/q .\n",
    "- Un tuple peut être affecté à une variable et une fonction peut retourner un tuple :"
   ]
  },
  {
   "cell_type": "code",
   "execution_count": null,
   "id": "011536a7",
   "metadata": {},
   "outputs": [],
   "source": [
    "position=(100,200)\n",
    "date=(10,\"juillet\",2021)\n",
    "carte = (7,\"pique\")\n",
    "fraction=(10,7)\n",
    "\n",
    "#on peut alors extraire les éléments par des affectations multiples\n",
    "x,y=position #x vaut 100 et y vaut 200\n",
    "jour,mois,annee=date #jour vaut 10, mois vaut \"juillet\" et annee vaut 2021\n",
    "valeur,couleur = carte #valeur vaut 7 et couleur vaut \"pique\"\n",
    "num, denom=fraction #num vaut 10 et denom vaut 7"
   ]
  },
  {
   "cell_type": "markdown",
   "id": "64e4795c",
   "metadata": {},
   "source": [
    "Attention toutefois : lors de l'affectation, le nombre de variables à gauche doit correspondre au nombre d'éléments dans le tuple, sinon on génère une erreur :"
   ]
  },
  {
   "cell_type": "code",
   "execution_count": 2,
   "id": "2d8b77e9",
   "metadata": {},
   "outputs": [
    {
     "ename": "ValueError",
     "evalue": "not enough values to unpack (expected 3, got 2)",
     "output_type": "error",
     "traceback": [
      "\u001b[1;31m---------------------------------------------------------------------------\u001b[0m",
      "\u001b[1;31mValueError\u001b[0m                                Traceback (most recent call last)",
      "\u001b[1;32m<ipython-input-2-fdc0ee91be5f>\u001b[0m in \u001b[0;36m<module>\u001b[1;34m\u001b[0m\n\u001b[0;32m      1\u001b[0m \u001b[0mMonTuple2Valeurs\u001b[0m\u001b[1;33m=\u001b[0m\u001b[1;33m(\u001b[0m\u001b[1;36m10\u001b[0m\u001b[1;33m,\u001b[0m\u001b[1;36m20\u001b[0m\u001b[1;33m)\u001b[0m\u001b[1;33m\u001b[0m\u001b[1;33m\u001b[0m\u001b[0m\n\u001b[1;32m----> 2\u001b[1;33m \u001b[0mx\u001b[0m\u001b[1;33m,\u001b[0m\u001b[0my\u001b[0m\u001b[1;33m,\u001b[0m\u001b[0mz\u001b[0m\u001b[1;33m=\u001b[0m\u001b[0mMonTuple2Valeurs\u001b[0m \u001b[1;31m#on affecte 3 valeurs à un tuple en contenant 2, cela génère une erreur\u001b[0m\u001b[1;33m\u001b[0m\u001b[1;33m\u001b[0m\u001b[0m\n\u001b[0m",
      "\u001b[1;31mValueError\u001b[0m: not enough values to unpack (expected 3, got 2)"
     ]
    }
   ],
   "source": [
    "MonTuple2Valeurs=(10,20)\n",
    "x,y,z=MonTuple2Valeurs #on affecte 3 valeurs à un tuple en contenant 2, cela génère une erreur"
   ]
  },
  {
   "cell_type": "markdown",
   "id": "727512cd",
   "metadata": {},
   "source": [
    "Une fonction peut prendre un tuple en paramètre :"
   ]
  },
  {
   "cell_type": "code",
   "execution_count": 4,
   "id": "d106c862",
   "metadata": {},
   "outputs": [
    {
     "name": "stdout",
     "output_type": "stream",
     "text": [
      "4\n",
      "6\n"
     ]
    }
   ],
   "source": [
    "def partieEntiere(fraction): #fonction qui renvoit la partie entière d'une fraction, par exemple partieEntiere((14,3)) renvoit 4 car 14/3=4+2/3\n",
    "    num,denom=fraction #on récupère le numérateur et le dénominateur\n",
    "    return num//denom\n",
    "\n",
    "#dans notre programme principal, on appelle la fonction partieEntiere\n",
    "maFraction=(14,3)\n",
    "print(partieEntiere(maFraction)) #renvoie 4\n",
    "print(partieEntiere((12,2)))"
   ]
  },
  {
   "cell_type": "markdown",
   "id": "ea7a373e",
   "metadata": {},
   "source": [
    "On peut mettre ce qu'on veut dans un tuple, on peut même mettre un tuple dans un autre tuple.\n",
    "Regardons un exemple ici :"
   ]
  },
  {
   "cell_type": "code",
   "execution_count": 7,
   "id": "04125daa",
   "metadata": {},
   "outputs": [
    {
     "name": "stdout",
     "output_type": "stream",
     "text": [
      "(10, 'décembre', 1815)\n",
      "décembre\n"
     ]
    }
   ],
   "source": [
    "personne=(\"Lovelace\",\"Ada\",(10,\"décembre\",1815),\"Londres\") #tuple de 4 éléments dont le 3eme est un tuple\n",
    "\n",
    "nom,prenom,date,lieu=personne\n",
    "print(date) #date est le tuple (10,\"décembre\",1815)\n",
    "jour,mois,annee=date #on extrait les données du tuple date\n",
    "print(mois) #décembre"
   ]
  },
  {
   "cell_type": "markdown",
   "id": "4f8f71e8",
   "metadata": {},
   "source": [
    "Un tuple est **immuable** c'est à dire qu'on ne peut pas modifier son contenu, on peut le voir comme une constante. Si on veut modifier un tuple, on génère une erreur. Ce n'est pas toujours pratique, mais cela permet une meilleure gestion mémoire et donc une plus grande efficacité du programme"
   ]
  },
  {
   "cell_type": "code",
   "execution_count": 11,
   "id": "a5f247ef",
   "metadata": {},
   "outputs": [
    {
     "name": "stdout",
     "output_type": "stream",
     "text": [
      "(10, 20)\n",
      "(10, 20)\n"
     ]
    }
   ],
   "source": [
    "min,max=10,20\n",
    "monTuple=(min,max)\n",
    "print(monTuple)\n",
    "#zut, je veux changer la première valeur!\n",
    "min,max=0,20\n",
    "print(monTuple) #le tuple n'est pas modifié"
   ]
  },
  {
   "cell_type": "markdown",
   "id": "29dcad8d",
   "metadata": {},
   "source": [
    "# 3-Les tableaux ou listes\n",
    "Un tableau est une collection ordonnée d'éléments de même type. Contrairement aux tuples, les tableaux sont muables, c'est-à‑dire que le contenu d'un tableau peut changer après sa création. Un tableau peut servir par exemple à représenter une suite de nombres, ou la suite des mots d'un texte.\n",
    "En python, on parle aussi de liste. Les deux mots sont presque synonymes, bien qu'un tableau soit de taille fixe alors qu'une liste peut s'allonger ou se raccourcir. Dans la suite de ce cours, on utilisera de façon indifférente le mot liste et le mot tableau.\n",
    "\n",
    "Un tableau est noté entre **crochets**. L'accès aux éléments d'un tableau se fait par la notation indexée <code>t[i]</code>, où <code>i</code> est appelé l'indice de l'élément <code>t[i]</code>. Le premier élément du tableau est à l'indice 0, le nombre d'éléments d'un tableau est donné par <code>len(t)</code> :"
   ]
  },
  {
   "cell_type": "code",
   "execution_count": 13,
   "id": "b1ee8ba8",
   "metadata": {},
   "outputs": [
    {
     "name": "stdout",
     "output_type": "stream",
     "text": [
      "le 3eme nombre premier est :  5\n"
     ]
    }
   ],
   "source": [
    "premiers=[2,3,5,7,11,13,17,19,23] #une liste des premiers nombres premiers\n",
    "print(\"le 3eme nombre premier est : \",premiers[2]) #on rappelle que le premier indice est 0"
   ]
  },
  {
   "cell_type": "markdown",
   "id": "9dcf4b97",
   "metadata": {},
   "source": [
    "Si l'on tente d'accéder à un élément avec un indice en dehors du tableau, on obtient une erreur :"
   ]
  },
  {
   "cell_type": "code",
   "execution_count": 15,
   "id": "a3369e45",
   "metadata": {},
   "outputs": [
    {
     "ename": "IndexError",
     "evalue": "list index out of range",
     "output_type": "error",
     "traceback": [
      "\u001b[1;31m---------------------------------------------------------------------------\u001b[0m",
      "\u001b[1;31mIndexError\u001b[0m                                Traceback (most recent call last)",
      "\u001b[1;32m<ipython-input-15-2cec199ab241>\u001b[0m in \u001b[0;36m<module>\u001b[1;34m\u001b[0m\n\u001b[0;32m      1\u001b[0m \u001b[0mpremiers\u001b[0m\u001b[1;33m=\u001b[0m\u001b[1;33m[\u001b[0m\u001b[1;36m2\u001b[0m\u001b[1;33m,\u001b[0m\u001b[1;36m3\u001b[0m\u001b[1;33m,\u001b[0m\u001b[1;36m5\u001b[0m\u001b[1;33m,\u001b[0m\u001b[1;36m7\u001b[0m\u001b[1;33m,\u001b[0m\u001b[1;36m11\u001b[0m\u001b[1;33m,\u001b[0m\u001b[1;36m13\u001b[0m\u001b[1;33m,\u001b[0m\u001b[1;36m17\u001b[0m\u001b[1;33m,\u001b[0m\u001b[1;36m19\u001b[0m\u001b[1;33m,\u001b[0m\u001b[1;36m23\u001b[0m\u001b[1;33m]\u001b[0m \u001b[1;31m#une liste des premiers nombres premiers\u001b[0m\u001b[1;33m\u001b[0m\u001b[1;33m\u001b[0m\u001b[0m\n\u001b[1;32m----> 2\u001b[1;33m \u001b[0mprint\u001b[0m\u001b[1;33m(\u001b[0m\u001b[0mpremiers\u001b[0m\u001b[1;33m[\u001b[0m\u001b[1;36m10\u001b[0m\u001b[1;33m]\u001b[0m\u001b[1;33m)\u001b[0m \u001b[1;31m#le dernier élément a comme indice 8\u001b[0m\u001b[1;33m\u001b[0m\u001b[1;33m\u001b[0m\u001b[0m\n\u001b[0m",
      "\u001b[1;31mIndexError\u001b[0m: list index out of range"
     ]
    }
   ],
   "source": [
    "premiers=[2,3,5,7,11,13,17,19,23] #une liste des premiers nombres premiers\n",
    "print(premiers[10]) #le dernier élément a comme indice 8"
   ]
  },
  {
   "cell_type": "markdown",
   "id": "3aa6bbf4",
   "metadata": {},
   "source": [
    "On peut **énumérer** les éléments d'un tableau comme indiqué ci-dessus, avec un indice qui va de 0 à sa longeur <code>(for i in range(len(t)))</code>. Si l'on n'a pas besoin de la valeur de l'indice, on peut aussi énumérer les éléments directement avec l'instructino for e in t. Dans ce cas, la variable de boucle prend les valeurs des éléments du tableau :"
   ]
  },
  {
   "cell_type": "code",
   "execution_count": 16,
   "id": "ccb6d742",
   "metadata": {},
   "outputs": [
    {
     "name": "stdout",
     "output_type": "stream",
     "text": [
      "2\n",
      "3\n",
      "5\n",
      "7\n",
      "11\n",
      "13\n",
      "17\n",
      "19\n",
      "23\n"
     ]
    }
   ],
   "source": [
    "premiers=[2,3,5,7,11,13,17,19,23] #une liste des premiers nombres premiers\n",
    "for i in premiers: #i va parcourir les éléments de la liste premiers\n",
    "    print(i)"
   ]
  },
  {
   "cell_type": "code",
   "execution_count": 21,
   "id": "ae00bf60",
   "metadata": {},
   "outputs": [
    {
     "name": "stdout",
     "output_type": "stream",
     "text": [
      "Nombre premier #1 : 2\n",
      "Nombre premier #2 : 3\n",
      "Nombre premier #3 : 5\n",
      "Nombre premier #4 : 7\n",
      "Nombre premier #5 : 11\n",
      "Nombre premier #6 : 13\n",
      "Nombre premier #7 : 17\n",
      "Nombre premier #8 : 19\n",
      "Nombre premier #9 : 23\n"
     ]
    }
   ],
   "source": [
    "premiers=[2,3,5,7,11,13,17,19,23] #une liste des premiers nombres premiers\n",
    "for i in range(len(premiers)): #i va parcourir les indices de 0 à len(premiers) qui correspond au dernier élément\n",
    "    print(f\"Nombre premier #{i+1} : {premiers[i]}\")"
   ]
  },
  {
   "cell_type": "markdown",
   "id": "b47caee7",
   "metadata": {},
   "source": [
    "Comme pour les chaînes de caractères, on peut créer de nouveaux tableaux à partir de tableaux existants par **concaténation** (opérateur +) et par **répétition** (opérateur *) :"
   ]
  },
  {
   "cell_type": "code",
   "execution_count": 25,
   "id": "17138414",
   "metadata": {},
   "outputs": [
    {
     "name": "stdout",
     "output_type": "stream",
     "text": [
      "[0, 2, 4, 6, 8, 10, 1, 3, 5, 7, 9]\n",
      "['pique', 'trefle', 'carreau', 'coeur']\n",
      "[0, 0, 0, 0, 0, 0, 0, 0, 0, 0, 0, 0, 0, 0, 0, 0, 0, 0, 0, 0, 0, 0, 0, 0, 0, 0, 0, 0, 0, 0, 0, 0, 0, 0, 0, 0, 0, 0, 0, 0, 0, 0, 0, 0, 0, 0, 0, 0, 0, 0, 0, 0, 0, 0, 0, 0, 0, 0, 0, 0, 0, 0, 0, 0, 0, 0, 0, 0, 0, 0, 0, 0, 0, 0, 0, 0, 0, 0, 0, 0, 0, 0, 0, 0, 0, 0, 0, 0, 0, 0, 0, 0, 0, 0, 0, 0, 0, 0, 0, 0]\n",
      "[1, 2, 3, 1, 2, 3, 1, 2, 3, 1, 2, 3, 1, 2, 3, 1, 2, 3, 1, 2, 3, 1, 2, 3, 1, 2, 3, 1, 2, 3]\n"
     ]
    }
   ],
   "source": [
    "pairs=[0,2,4,6,8,10]\n",
    "impairs=[1,3,5,7,9]\n",
    "nombres = pairs+impairs\n",
    "print(nombres) #[0, 2, 4, 6, 8, 10, 1, 3, 5, 7, 9]\n",
    "\n",
    "couleurs=[\"pique\",\"trefle\"]+[\"carreau\",\"coeur\"]\n",
    "print(couleurs) #['pique', 'trefle', 'carreau', 'coeur']\n",
    "\n",
    "zeros=[0]*100\n",
    "print(zeros) #une liste de cent 0\n",
    "\n",
    "cycle=[1,2,3]*10\n",
    "print(cycle) #10 fois la séquence 1,2,3"
   ]
  },
  {
   "cell_type": "markdown",
   "id": "03eb11c8",
   "metadata": {},
   "source": [
    "Contrairement aux tuples, les tableaux sont des types **muables** : on peut modifier leur contenu. Pour modifier un élément de tableau, on utilise la notation indexée à gauche d'une affectation :"
   ]
  },
  {
   "cell_type": "code",
   "execution_count": 27,
   "id": "8c8512ea",
   "metadata": {},
   "outputs": [
    {
     "name": "stdout",
     "output_type": "stream",
     "text": [
      "voila les nombres premiers doublés :  [4, 6, 10, 14, 22, 26, 34, 38, 46]\n"
     ]
    }
   ],
   "source": [
    "premiers=[2,3,5,7,11,13,17,19,23]\n",
    "for i in range(len(premiers)): \n",
    "    premiers[i]=2*premiers[i] #on double la valeur, on peut MODIFIER une liste\n",
    "    \n",
    "print(\"voila les nombres premiers doublés : \",premiers)"
   ]
  },
  {
   "cell_type": "markdown",
   "id": "2cdd3a44",
   "metadata": {},
   "source": [
    "Les éléments d'une liste Python peuvent-être de types différents. Le type d'un élément peut être un type de base, comme dans les exemples ci-dessus, mais aussi un type construit, comme un tuple ou un tableau, ce qui permet de représenter des données complexes.\n",
    "\n",
    "Par exemple, un tableau peut contenir un ensemble de coordonnées (x, y), ou l'ensemble des cartes d'un jeu de carte, ou une main d'un joueur.\n",
    "\n",
    "Inversement, un tuple peut contenir un tableau comme élément. Par exemple on peut représenter le joueur d'un jeu de cartes par un tuple constitué de son nom, du tableau de ses cartes, et de son score :"
   ]
  },
  {
   "cell_type": "code",
   "execution_count": 32,
   "id": "50040c56",
   "metadata": {},
   "outputs": [
    {
     "name": "stdout",
     "output_type": "stream",
     "text": [
      "('Joe', [('as', 'pique'), ('as', 'coeur'), (4, 'coeur'), (7, 'carreau'), ('roi', 'carreau')], 120)\n"
     ]
    }
   ],
   "source": [
    "#tableau de tuples\n",
    "cartes = [(\"as\",\"pique\"),(10,\"trefle\"),(4,\"coeur\"),(7,\"carreau\"),(\"roi\",\"carreau\")]\n",
    "#tuple contenant le nom d'un joueur, ses cartes (le tuple précédent), et son score\n",
    "joueur=(\"Joe\",cartes,120)\n",
    "\n",
    "#Si Joe change son 10 de trefle par un as de coeur, on peut le changer dans le code\n",
    "cartes[1]=(\"as\",\"coeur\")\n",
    "print(joueur) #('Joe', [('as', 'pique'), ('as', 'coeur'), (4, 'coeur'), (7, 'carreau'), ('roi', 'carreau')], 120)"
   ]
  },
  {
   "cell_type": "markdown",
   "id": "9ed23048",
   "metadata": {},
   "source": [
    "Dans le langage Python, les tableaux sont mis en œuvre par un type construit plus général appelé list. Ce type permet d'ajouter et de retirer des éléments d'une liste, alors que dans beaucoup de langages de programmation la taille d'un tableau est fixée à sa création.\n",
    "\n",
    "Pour ajouter et retirer des éléments d'une liste, on utilise des méthodes. Une méthode est une fonction associée à un type d'objet. On l'appelle en utilisant la notation pointée <code>objet.methode(parametres)</code>. Les méthodes sont utilisées en particulier avec les types muables pour les fonctions qui modifient la valeur de l'objet.\n",
    "\n",
    "Les méthodes qui permettent de modifier le contenu d'une liste sont les suivantes : **<code>append,insert,pop,clear</code>**\n",
    "\n"
   ]
  },
  {
   "cell_type": "code",
   "execution_count": 40,
   "id": "6f176d8c",
   "metadata": {},
   "outputs": [
    {
     "name": "stdout",
     "output_type": "stream",
     "text": [
      "[10, 20, 30, 40, 50, 60, 70, 80]\n",
      "[10, 20, 30, 'trente-cinq', 40, 50, 60, 70, 80]\n",
      "[10, 20, 30, 'trente-cinq', 40, 50, 60, 70]\n",
      "[20, 30, 'trente-cinq', 40, 50, 60, 70]\n",
      "[]\n"
     ]
    }
   ],
   "source": [
    "Maliste= [10,20,30,40,50,60,70]\n",
    "\n",
    "#append permet d'ajouter un élément à la liste\n",
    "Maliste.append(80)\n",
    "print(Maliste)   #[10, 20, 30, 40, 50, 60, 70, 80]\n",
    "\n",
    "#insert permet d'insérer une valeur à une position donnée\n",
    "Maliste.insert(3,\"trente-cinq\") #on insère à l'indice 3 l'élément \"trente-cinq\"\n",
    "print(Maliste)   #[10, 20, 30, 'trente-cinq', 40, 50, 60, 70, 80]\n",
    "\n",
    "#pop retire un élément\n",
    "Maliste.pop()    #si on ne met pas de paramètre, cela retire le dernier élément\n",
    "print(Maliste)   #[10, 20, 30, 'trente-cinq', 40, 50, 60, 70]\n",
    "Maliste.pop(0)   #en paramètre, on peut indiquer l'élément qu'on enlève (ici celui d'indice 0 donc 10)\n",
    "print(Maliste)   #[20, 30, 'trente-cinq', 40, 50, 60, 70]\n",
    "#bien sûr, si on \"pop\" plus d'éléments qu'il n'y en a dans la liste, on aura une erreur...\n",
    "\n",
    "#clear vide la liste, on se retouve alors avec une liste vide []\n",
    "Maliste.clear()  \n",
    "print(Maliste)   #[]\n"
   ]
  },
  {
   "cell_type": "markdown",
   "id": "def9c922",
   "metadata": {},
   "source": [
    "# Exercices d'applications \n",
    "\n",
    "## Exercice 1 (tuples)\n",
    "On représente un point par un tuple (x,y) de ses coordonnées\n",
    "Écrire une fonction qui prend en paramètres deux points et renvoie le point qui correspond au milieu.\n",
    "Voici ci-dessous le début de ce que vous devez faire :"
   ]
  },
  {
   "cell_type": "code",
   "execution_count": 48,
   "id": "bedb821f",
   "metadata": {},
   "outputs": [
    {
     "name": "stdout",
     "output_type": "stream",
     "text": [
      "(0, 0)\n"
     ]
    }
   ],
   "source": [
    "A=(10,40) #le point A a pour coordonnées x=10 et y=40\n",
    "O=(0,0)   #O est l'origine, x=0, y=0\n",
    "\n",
    "def milieu (point1,point2):\n",
    "    #à vous de coder la fonction\n",
    "    #elle se terminera par un \"return (???,???)\" pour renvoyer le point milieu\n",
    "    return (0,0)  #ligne à modifierr \n",
    "    \n",
    "#programme principal (ne pas modifier)\n",
    "B=milieu(A,O)\n",
    "print(B)       #doit normalement renvoyer (5,20)"
   ]
  },
  {
   "cell_type": "markdown",
   "id": "9b068240",
   "metadata": {},
   "source": [
    "## Exercice 2 (tuples)\n",
    "Créer un tuple contenant les températures moyennes des 12 mois de l'année à Montréal (on ira chercher les températures sur \t[la page wikipedia de Montréal](https://fr.wikipedia.org/wiki/Montr%C3%A9al#Climat))\n",
    "Faire ensuite un programme qui renvoie la température moyenne annuelle à partir de ces 12 valeurs."
   ]
  },
  {
   "cell_type": "markdown",
   "id": "1e8f778c",
   "metadata": {},
   "source": [
    "## Exercice 3 (tuples)\n",
    "On représente une date par un tuple (j,m,a) où j est le jour du mois, m le numéro du mois (de 1 à 12) et a l'année.\n",
    "\n",
    "Écrire une fonction <code>anterieur</code> qui prend deux dates d1 et d2 en paramètres et retourne True si d1 est antérieure à d2.\n",
    "\n",
    "\n",
    "Écrire une fonction <code>age</code> qui prend deux dates d1 et d2 en paramètres et retourne le nombre d'années pleines entre d1 et d2. Peut-on utiliser la fonction de la question a. ?"
   ]
  },
  {
   "cell_type": "code",
   "execution_count": 44,
   "id": "285f46be",
   "metadata": {},
   "outputs": [
    {
     "name": "stdout",
     "output_type": "stream",
     "text": [
      "False\n",
      "45\n"
     ]
    }
   ],
   "source": [
    "#aide pour l'exercice 3\n",
    "dateA=(31,12,2000)\n",
    "dateB=(1,1,2003)\n",
    "\n",
    "def anterieur(date1,date2):\n",
    "    #à faire\n",
    "    return False #à changer \n",
    "\n",
    "print (anterieur(dateA,dateB)) #renvoie normalement True\n",
    "\n",
    "def age(date1,date2):\n",
    "    #à faire\n",
    "    return 45 #à changer\n",
    "\n",
    "print (age(dateA,dateB))       #renvoie normalement 2"
   ]
  },
  {
   "cell_type": "markdown",
   "id": "5ae65391",
   "metadata": {},
   "source": [
    "## Exercice 4 (tuples)\n",
    "\n",
    "On définit une carte comme un tuple (valeur, couleur). valeur est un entier de 2 à 14 inclus, où 11 représente le Valet et 14 l'As. couleur est une chaîne de caractères parmi « Pique », « Coeur », « Carreau », « Trèfle ».\n",
    "\n",
    "1. Écrire une fonction <code>carte_valide</code> qui prend un tuple en paramètre et retourne un booléen qui indique s'il représente une carte valide.\n",
    "\n",
    "\n",
    "2. Écrire une fonction nom_carte qui prend un tuple représentant une carte en paramètre et retourne une chaîne de caractères avec le nom de la carte, par exemple \"As de Trèfle\" ou \"7 de Pique\".\n",
    "\n",
    "\n",
    "3. Écrire un programme qui crée un tableau contenant toutes les cartes d'un jeu de 52 cartes. Un conseil, ne les créez pas une par une!\n",
    "\n",
    "\n",
    "4. À l'aide de la fonction random() de la bibliothèque random, tirer une carte au hasard dans le tableau et afficher son nom."
   ]
  },
  {
   "cell_type": "markdown",
   "id": "7aa8be7d",
   "metadata": {},
   "source": [
    "## Exercice 5 (listes)\n",
    "Créer un programme qui génère la liste de tous les entiers pairs de 0 à 200 et les affiche, puis génère dans une autre liste la liste des entiers impairs de 201 à 401 et les affiche.\n",
    "\n",
    "## Exercice 6 (listes)\n",
    "Un peu comme dans l'exercice 2, créer un programme qui demande à l'utilisateur d'entrer une à une ses notes (la saisie de -1 signale qu'on a fini)qui sont stockées dans une liste. Le programme renvoie ensuite la moyenne des notes saisies.\n",
    "\n",
    "## Exercice 7 (listes)\n",
    "Écrire une fonction <code>est_ordonne</code> qui prend en paramètre un tableau de nombres et retourne True si ses éléments sont ordonnés par ordre croissant.\n",
    "\n",
    "## Exercice 8 (listes)\n",
    "La fonction random de la bibliothèque Python random retourne des nombres aléatoires entre 0 et 1. On veut vérifier que ces nombres sont bien aléatoires, c'est-à‑dire qu'ils sont uniformément répartis entre 0 et 1.\n",
    "\n",
    "1. Écrire un programme qui appelle random 1 000 fois et enregistre dans un tableau t de dix entiers le nombre de fois où le résultat est dans chacun des dix intervalles [0, 0.1[, [0.1, 0.2[, …​ [0.9, 1.0[. Afficher le résultat sous forme d'histogramme avec le code suivant :\n",
    "\n",
    "<code>\n",
    "from matplotlib.pyplot import bar,show\n",
    "bar(range(lent(t)),t)\n",
    "show()\n",
    "</code>\n",
    "\n",
    "2. Répéter le calcul et l'affichage plusieurs fois, puis avec un nombre de répétitions de plus en plus grand (jusqu'à 10 millions). Qu'observe-t‑on ?"
   ]
  },
  {
   "cell_type": "code",
   "execution_count": 47,
   "id": "0b542f43",
   "metadata": {},
   "outputs": [
    {
     "data": {
      "image/png": "[encoded data removed]",
      "text/plain": [
       "<Figure size 432x288 with 1 Axes>"
      ]
     },
     "metadata": {
      "needs_background": "light"
     },
     "output_type": "display_data"
    }
   ],
   "source": [
    "#un exemple d'utilisation d'un histogramme\n",
    "t=[1,2,4,5,3,4,1,2]\n",
    "\n",
    "from matplotlib.pyplot import bar,show\n",
    "bar(range(len(t)),t)\n",
    "show()"
   ]
  },
  {
   "cell_type": "code",
   "execution_count": null,
   "id": "d944e524",
   "metadata": {},
   "outputs": [],
   "source": []
  }
 ],
 "metadata": {
  "kernelspec": {
   "display_name": "Python 3",
   "language": "python",
   "name": "python3"
  },
  "language_info": {
   "codemirror_mode": {
    "name": "ipython",
    "version": 3
   },
   "file_extension": ".py",
   "mimetype": "text/x-python",
   "name": "python",
   "nbconvert_exporter": "python",
   "pygments_lexer": "ipython3",
   "version": "3.7.10"
  }
 },
 "nbformat": 4,
 "nbformat_minor": 5
}
